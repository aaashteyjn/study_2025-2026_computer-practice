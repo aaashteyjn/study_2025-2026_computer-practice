{
 "cells": [
  {
   "cell_type": "code",
   "execution_count": 1,
   "id": "253b6a1e-35c0-4175-91f7-face97c02a61",
   "metadata": {},
   "outputs": [
    {
     "data": {
      "text/plain": [
       "5"
      ]
     },
     "execution_count": 1,
     "metadata": {},
     "output_type": "execute_result"
    }
   ],
   "source": [
    "2+3"
   ]
  },
  {
   "cell_type": "code",
   "execution_count": 2,
   "id": "c02be6d1-79e2-4b0a-ac57-fadf0fdbc66f",
   "metadata": {},
   "outputs": [
    {
     "data": {
      "text/plain": [
       "3"
      ]
     },
     "execution_count": 2,
     "metadata": {},
     "output_type": "execute_result"
    }
   ],
   "source": [
    "3+4\n",
    "1+2"
   ]
  },
  {
   "cell_type": "code",
   "execution_count": 3,
   "id": "30dd0434-6c87-40e2-80dc-958402b5c992",
   "metadata": {},
   "outputs": [],
   "source": [
    "3+5\n",
    "4+5;"
   ]
  },
  {
   "cell_type": "code",
   "execution_count": 4,
   "id": "133fa1e0-0ff8-4306-9579-e0cb4fe7d8a6",
   "metadata": {},
   "outputs": [
    {
     "name": "stdout",
     "output_type": "stream",
     "text": [
      "search: \u001b[0m\u001b[1mp\u001b[22m\u001b[0m\u001b[1mr\u001b[22m\u001b[0m\u001b[1mi\u001b[22m\u001b[0m\u001b[1mn\u001b[22m\u001b[0m\u001b[1mt\u001b[22m\u001b[0m\u001b[1ml\u001b[22m\u001b[0m\u001b[1mn\u001b[22m \u001b[0m\u001b[1mp\u001b[22m\u001b[0m\u001b[1mr\u001b[22m\u001b[0m\u001b[1mi\u001b[22m\u001b[0m\u001b[1mn\u001b[22m\u001b[0m\u001b[1mt\u001b[22m s\u001b[0m\u001b[1mp\u001b[22m\u001b[0m\u001b[1mr\u001b[22m\u001b[0m\u001b[1mi\u001b[22m\u001b[0m\u001b[1mn\u001b[22m\u001b[0m\u001b[1mt\u001b[22m \u001b[0m\u001b[1mp\u001b[22mointe\u001b[0m\u001b[1mr\u001b[22m \u001b[0m\u001b[1mp\u001b[22m\u001b[0m\u001b[1mr\u001b[22m\u001b[0m\u001b[1mi\u001b[22m\u001b[0m\u001b[1mn\u001b[22m\u001b[0m\u001b[1mt\u001b[22msty\u001b[0m\u001b[1ml\u001b[22med\n",
      "\n"
     ]
    },
    {
     "data": {
      "text/latex": [
       "\\begin{verbatim}\n",
       "println([io::IO], xs...)\n",
       "\\end{verbatim}\n",
       "Print (using \\href{@ref}{\\texttt{print}}) \\texttt{xs} to \\texttt{io} followed by a newline. If \\texttt{io} is not supplied, prints to the default output stream \\href{@ref}{\\texttt{stdout}}.\n",
       "\n",
       "See also \\href{@ref}{\\texttt{printstyled}} to add colors etc.\n",
       "\n",
       "\\section{Examples}\n",
       "\\begin{verbatim}\n",
       "julia> println(\"Hello, world\")\n",
       "Hello, world\n",
       "\n",
       "julia> io = IOBuffer();\n",
       "\n",
       "julia> println(io, \"Hello\", ',', \" world.\")\n",
       "\n",
       "julia> String(take!(io))\n",
       "\"Hello, world.\\n\"\n",
       "\\end{verbatim}\n"
      ],
      "text/markdown": [
       "```\n",
       "println([io::IO], xs...)\n",
       "```\n",
       "\n",
       "Print (using [`print`](@ref)) `xs` to `io` followed by a newline. If `io` is not supplied, prints to the default output stream [`stdout`](@ref).\n",
       "\n",
       "See also [`printstyled`](@ref) to add colors etc.\n",
       "\n",
       "# Examples\n",
       "\n",
       "```jldoctest\n",
       "julia> println(\"Hello, world\")\n",
       "Hello, world\n",
       "\n",
       "julia> io = IOBuffer();\n",
       "\n",
       "julia> println(io, \"Hello\", ',', \" world.\")\n",
       "\n",
       "julia> String(take!(io))\n",
       "\"Hello, world.\\n\"\n",
       "```\n"
      ],
      "text/plain": [
       "\u001b[36m  println([io::IO], xs...)\u001b[39m\n",
       "\n",
       "  Print (using \u001b[36mprint\u001b[39m) \u001b[36mxs\u001b[39m to \u001b[36mio\u001b[39m followed by a newline. If \u001b[36mio\u001b[39m is not supplied,\n",
       "  prints to the default output stream \u001b[36mstdout\u001b[39m.\n",
       "\n",
       "  See also \u001b[36mprintstyled\u001b[39m to add colors etc.\n",
       "\n",
       "\u001b[1m  Examples\u001b[22m\n",
       "\u001b[1m  ≡≡≡≡≡≡≡≡\u001b[22m\n",
       "\n",
       "\u001b[36m  julia> println(\"Hello, world\")\u001b[39m\n",
       "\u001b[36m  Hello, world\u001b[39m\n",
       "\u001b[36m  \u001b[39m\n",
       "\u001b[36m  julia> io = IOBuffer();\u001b[39m\n",
       "\u001b[36m  \u001b[39m\n",
       "\u001b[36m  julia> println(io, \"Hello\", ',', \" world.\")\u001b[39m\n",
       "\u001b[36m  \u001b[39m\n",
       "\u001b[36m  julia> String(take!(io))\u001b[39m\n",
       "\u001b[36m  \"Hello, world.\\n\"\u001b[39m"
      ]
     },
     "execution_count": 4,
     "metadata": {},
     "output_type": "execute_result"
    }
   ],
   "source": [
    "?println"
   ]
  },
  {
   "cell_type": "code",
   "execution_count": 5,
   "id": "17184c3a-8411-4ab3-9e3c-59901463fa6c",
   "metadata": {},
   "outputs": [
    {
     "data": {
      "text/plain": [
       "(Int64, Float64, Float64, ComplexF64, Irrational{:π})"
      ]
     },
     "execution_count": 5,
     "metadata": {},
     "output_type": "execute_result"
    }
   ],
   "source": [
    "typeof(3), typeof(3.5), typeof(3/3.55), typeof(sqrt(3+4im)), typeof(pi)"
   ]
  },
  {
   "cell_type": "code",
   "execution_count": 6,
   "id": "2aff5763-11d4-4da7-98d5-edc4dd497d84",
   "metadata": {},
   "outputs": [
    {
     "data": {
      "text/plain": [
       "(Inf, -Inf, NaN)"
      ]
     },
     "execution_count": 6,
     "metadata": {},
     "output_type": "execute_result"
    }
   ],
   "source": [
    "1.0/0.0, 1.0/(-0.0), 0.0/0.0"
   ]
  },
  {
   "cell_type": "code",
   "execution_count": 7,
   "id": "fcdb0efb-87ba-40f8-9e05-212f5ebb0d57",
   "metadata": {},
   "outputs": [
    {
     "data": {
      "text/plain": [
       "(Float64, Float64, Float64)"
      ]
     },
     "execution_count": 7,
     "metadata": {},
     "output_type": "execute_result"
    }
   ],
   "source": [
    "typeof(1.0/0.0), typeof(1.0/(-0.0)), typeof(0.0/0.0)"
   ]
  },
  {
   "cell_type": "code",
   "execution_count": 8,
   "id": "1294e75e-5615-46a6-b26d-0b94a63e12c8",
   "metadata": {},
   "outputs": [
    {
     "name": "stdout",
     "output_type": "stream",
     "text": [
      "   Int8: [-128, 127]\n",
      "  Int16: [-32768, 32767]\n",
      "  Int32: [-2147483648, 2147483647]\n",
      "  Int64: [-9223372036854775808, 9223372036854775807]\n",
      " Int128: [-170141183460469231731687303715884105728, 170141183460469231731687303715884105727]\n",
      "  UInt8: [0, 255]\n",
      " UInt16: [0, 65535]\n",
      " UInt32: [0, 4294967295]\n",
      " UInt64: [0, 18446744073709551615]\n",
      "UInt128: [0, 340282366920938463463374607431768211455]\n"
     ]
    }
   ],
   "source": [
    "for T in [Int8, Int16, Int32, Int64, Int128, UInt8, UInt16, UInt32, UInt64, UInt128]\n",
    "    println(\"$(lpad(T,7)): [$(typemin(T)), $(typemax(T))]\")\n",
    "end"
   ]
  },
  {
   "cell_type": "code",
   "execution_count": 9,
   "id": "33c778f6-0aeb-4a92-9320-82a063e79958",
   "metadata": {},
   "outputs": [
    {
     "data": {
      "text/plain": [
       "(2, '\\x02', Char)"
      ]
     },
     "execution_count": 9,
     "metadata": {},
     "output_type": "execute_result"
    }
   ],
   "source": [
    "Int(2.0), Char(2), typeof(Char(2))"
   ]
  },
  {
   "cell_type": "code",
   "execution_count": 10,
   "id": "e7751265-92a2-432d-a965-e2401eeb4bc0",
   "metadata": {},
   "outputs": [
    {
     "data": {
      "text/plain": [
       "Tuple{Float32, Float32, Float32}"
      ]
     },
     "execution_count": 10,
     "metadata": {},
     "output_type": "execute_result"
    }
   ],
   "source": [
    "typeof(promote(Int8(1), Float16(4.5), Float32(4.1)))"
   ]
  },
  {
   "cell_type": "code",
   "execution_count": 11,
   "id": "1f1731f6-5c90-4a94-a455-9680e9f4822f",
   "metadata": {},
   "outputs": [
    {
     "name": "stdout",
     "output_type": "stream",
     "text": [
      "search: \u001b[0m\u001b[1mp\u001b[22m\u001b[0m\u001b[1mr\u001b[22m\u001b[0m\u001b[1mo\u001b[22m\u001b[0m\u001b[1mm\u001b[22m\u001b[0m\u001b[1mo\u001b[22m\u001b[0m\u001b[1mt\u001b[22m\u001b[0m\u001b[1me\u001b[22m \u001b[0m\u001b[1mp\u001b[22m\u001b[0m\u001b[1mr\u001b[22m\u001b[0m\u001b[1mo\u001b[22m\u001b[0m\u001b[1mm\u001b[22m\u001b[0m\u001b[1mo\u001b[22m\u001b[0m\u001b[1mt\u001b[22m\u001b[0m\u001b[1me\u001b[22m_type \u001b[0m\u001b[1mp\u001b[22m\u001b[0m\u001b[1mr\u001b[22m\u001b[0m\u001b[1mo\u001b[22m\u001b[0m\u001b[1mm\u001b[22m\u001b[0m\u001b[1mo\u001b[22m\u001b[0m\u001b[1mt\u001b[22m\u001b[0m\u001b[1me\u001b[22m_rule \u001b[0m\u001b[1mp\u001b[22m\u001b[0m\u001b[1mr\u001b[22m\u001b[0m\u001b[1mo\u001b[22m\u001b[0m\u001b[1mm\u001b[22m\u001b[0m\u001b[1mo\u001b[22m\u001b[0m\u001b[1mt\u001b[22m\u001b[0m\u001b[1me\u001b[22m_shape \u001b[0m\u001b[1mp\u001b[22me\u001b[0m\u001b[1mr\u001b[22mmute! \u001b[0m\u001b[1mp\u001b[22m\u001b[0m\u001b[1mr\u001b[22mec\u001b[0m\u001b[1mo\u001b[22m\u001b[0m\u001b[1mm\u001b[22mpile\n",
      "\n"
     ]
    },
    {
     "data": {
      "text/latex": [
       "\\begin{verbatim}\n",
       "promote(xs...)\n",
       "\\end{verbatim}\n",
       "Convert all arguments to a common type, and return them all (as a tuple). If no arguments can be converted, an error is raised.\n",
       "\n",
       "See also: \\href{@ref}{\\texttt{promote\\_type}}, \\href{@ref}{\\texttt{promote\\_rule}}.\n",
       "\n",
       "\\section{Examples}\n",
       "\\begin{verbatim}\n",
       "julia> promote(Int8(1), Float16(4.5), Float32(4.1))\n",
       "(1.0f0, 4.5f0, 4.1f0)\n",
       "\n",
       "julia> promote_type(Int8, Float16, Float32)\n",
       "Float32\n",
       "\n",
       "julia> reduce(Base.promote_typejoin, (Int8, Float16, Float32))\n",
       "Real\n",
       "\n",
       "julia> promote(1, \"x\")\n",
       "ERROR: promotion of types Int64 and String failed to change any arguments\n",
       "[...]\n",
       "\n",
       "julia> promote_type(Int, String)\n",
       "Any\n",
       "\\end{verbatim}\n"
      ],
      "text/markdown": [
       "```\n",
       "promote(xs...)\n",
       "```\n",
       "\n",
       "Convert all arguments to a common type, and return them all (as a tuple). If no arguments can be converted, an error is raised.\n",
       "\n",
       "See also: [`promote_type`](@ref), [`promote_rule`](@ref).\n",
       "\n",
       "# Examples\n",
       "\n",
       "```jldoctest\n",
       "julia> promote(Int8(1), Float16(4.5), Float32(4.1))\n",
       "(1.0f0, 4.5f0, 4.1f0)\n",
       "\n",
       "julia> promote_type(Int8, Float16, Float32)\n",
       "Float32\n",
       "\n",
       "julia> reduce(Base.promote_typejoin, (Int8, Float16, Float32))\n",
       "Real\n",
       "\n",
       "julia> promote(1, \"x\")\n",
       "ERROR: promotion of types Int64 and String failed to change any arguments\n",
       "[...]\n",
       "\n",
       "julia> promote_type(Int, String)\n",
       "Any\n",
       "```\n"
      ],
      "text/plain": [
       "\u001b[36m  promote(xs...)\u001b[39m\n",
       "\n",
       "  Convert all arguments to a common type, and return them all (as a tuple). If\n",
       "  no arguments can be converted, an error is raised.\n",
       "\n",
       "  See also: \u001b[36mpromote_type\u001b[39m, \u001b[36mpromote_rule\u001b[39m.\n",
       "\n",
       "\u001b[1m  Examples\u001b[22m\n",
       "\u001b[1m  ≡≡≡≡≡≡≡≡\u001b[22m\n",
       "\n",
       "\u001b[36m  julia> promote(Int8(1), Float16(4.5), Float32(4.1))\u001b[39m\n",
       "\u001b[36m  (1.0f0, 4.5f0, 4.1f0)\u001b[39m\n",
       "\u001b[36m  \u001b[39m\n",
       "\u001b[36m  julia> promote_type(Int8, Float16, Float32)\u001b[39m\n",
       "\u001b[36m  Float32\u001b[39m\n",
       "\u001b[36m  \u001b[39m\n",
       "\u001b[36m  julia> reduce(Base.promote_typejoin, (Int8, Float16, Float32))\u001b[39m\n",
       "\u001b[36m  Real\u001b[39m\n",
       "\u001b[36m  \u001b[39m\n",
       "\u001b[36m  julia> promote(1, \"x\")\u001b[39m\n",
       "\u001b[36m  ERROR: promotion of types Int64 and String failed to change any arguments\u001b[39m\n",
       "\u001b[36m  [...]\u001b[39m\n",
       "\u001b[36m  \u001b[39m\n",
       "\u001b[36m  julia> promote_type(Int, String)\u001b[39m\n",
       "\u001b[36m  Any\u001b[39m"
      ]
     },
     "execution_count": 11,
     "metadata": {},
     "output_type": "execute_result"
    }
   ],
   "source": [
    "?promote"
   ]
  },
  {
   "cell_type": "code",
   "execution_count": 12,
   "id": "440211d7-2d76-40ad-a0fb-22b320efd44d",
   "metadata": {},
   "outputs": [
    {
     "data": {
      "text/plain": [
       "f (generic function with 1 method)"
      ]
     },
     "execution_count": 12,
     "metadata": {},
     "output_type": "execute_result"
    }
   ],
   "source": [
    "function f(x)\n",
    "    x^2\n",
    "end"
   ]
  },
  {
   "cell_type": "code",
   "execution_count": 13,
   "id": "7b2941f6-8394-4f63-b0c9-77d767d5350a",
   "metadata": {},
   "outputs": [
    {
     "data": {
      "text/plain": [
       "16"
      ]
     },
     "execution_count": 13,
     "metadata": {},
     "output_type": "execute_result"
    }
   ],
   "source": [
    "f(4)"
   ]
  },
  {
   "cell_type": "code",
   "execution_count": 14,
   "id": "a41366e3-0c65-40ae-8458-20d195e4137e",
   "metadata": {},
   "outputs": [
    {
     "data": {
      "text/plain": [
       "g (generic function with 1 method)"
      ]
     },
     "execution_count": 14,
     "metadata": {},
     "output_type": "execute_result"
    }
   ],
   "source": [
    "g(x)=x^2"
   ]
  },
  {
   "cell_type": "code",
   "execution_count": 15,
   "id": "4bcd3409-f077-44f8-8ae3-012369acb01a",
   "metadata": {},
   "outputs": [
    {
     "data": {
      "text/plain": [
       "64"
      ]
     },
     "execution_count": 15,
     "metadata": {},
     "output_type": "execute_result"
    }
   ],
   "source": [
    "g(8)"
   ]
  },
  {
   "cell_type": "code",
   "execution_count": 16,
   "id": "689f8a47-3184-499f-8641-5d6e8acf6b85",
   "metadata": {},
   "outputs": [
    {
     "data": {
      "text/plain": [
       "1×3 Matrix{Int64}:\n",
       " 4  7  6"
      ]
     },
     "execution_count": 16,
     "metadata": {},
     "output_type": "execute_result"
    }
   ],
   "source": [
    "a=[4 7 6]"
   ]
  },
  {
   "cell_type": "code",
   "execution_count": 17,
   "id": "5ad9ee4c-188a-402d-841b-46dfdc9ba9d4",
   "metadata": {},
   "outputs": [
    {
     "data": {
      "text/plain": [
       "3-element Vector{Int64}:\n",
       " 1\n",
       " 2\n",
       " 3"
      ]
     },
     "execution_count": 17,
     "metadata": {},
     "output_type": "execute_result"
    }
   ],
   "source": [
    "b=[1, 2, 3]"
   ]
  },
  {
   "cell_type": "code",
   "execution_count": 18,
   "id": "487d9a59-3147-4beb-8e46-5d6c1ca08ec4",
   "metadata": {},
   "outputs": [
    {
     "data": {
      "text/plain": [
       "(7, 2)"
      ]
     },
     "execution_count": 18,
     "metadata": {},
     "output_type": "execute_result"
    }
   ],
   "source": [
    "a[2], b[2]"
   ]
  },
  {
   "cell_type": "code",
   "execution_count": 19,
   "id": "c6a3e8a9-e219-4bfa-a230-5ef0e7128ab2",
   "metadata": {},
   "outputs": [
    {
     "data": {
      "text/plain": [
       "2×2 Matrix{Int64}:\n",
       " 1  2\n",
       " 3  4"
      ]
     },
     "execution_count": 19,
     "metadata": {},
     "output_type": "execute_result"
    }
   ],
   "source": [
    "a=1; b=2; c=3; d=4\n",
    "Am=[a b; c d]"
   ]
  },
  {
   "cell_type": "code",
   "execution_count": 20,
   "id": "a9f46640-707e-4154-ad94-552e32b52665",
   "metadata": {},
   "outputs": [
    {
     "data": {
      "text/plain": [
       "(1, 2, 3, 4)"
      ]
     },
     "execution_count": 20,
     "metadata": {},
     "output_type": "execute_result"
    }
   ],
   "source": [
    "Am[1,1], Am[1,2], Am[2,1], Am[2,2]"
   ]
  },
  {
   "cell_type": "code",
   "execution_count": 21,
   "id": "aa184247-ba1e-4cc6-9bbc-37ecb9bbe2f8",
   "metadata": {},
   "outputs": [
    {
     "data": {
      "text/plain": [
       "1×2 Matrix{Int64}:\n",
       " 1  2"
      ]
     },
     "execution_count": 21,
     "metadata": {},
     "output_type": "execute_result"
    }
   ],
   "source": [
    "aa = [1 2]"
   ]
  },
  {
   "cell_type": "code",
   "execution_count": 22,
   "id": "4ec5c29a-8c0e-448d-b388-e4ed6ce40f77",
   "metadata": {},
   "outputs": [
    {
     "data": {
      "text/plain": [
       "2×2 Matrix{Int64}:\n",
       " 1  2\n",
       " 3  4"
      ]
     },
     "execution_count": 22,
     "metadata": {},
     "output_type": "execute_result"
    }
   ],
   "source": [
    "AA = [1 2; 3 4]"
   ]
  },
  {
   "cell_type": "code",
   "execution_count": 23,
   "id": "80bab058-6dfb-47ba-95f5-8070a10c1694",
   "metadata": {},
   "outputs": [
    {
     "data": {
      "text/plain": [
       "1×2 Matrix{Int64}:\n",
       " 7  10"
      ]
     },
     "execution_count": 23,
     "metadata": {},
     "output_type": "execute_result"
    }
   ],
   "source": [
    "aa*AA"
   ]
  },
  {
   "cell_type": "code",
   "execution_count": 24,
   "id": "c26099bf-c228-452f-accd-2e3b630a425f",
   "metadata": {},
   "outputs": [
    {
     "data": {
      "text/plain": [
       "2×1 adjoint(::Matrix{Int64}) with eltype Int64:\n",
       " 1\n",
       " 2"
      ]
     },
     "execution_count": 24,
     "metadata": {},
     "output_type": "execute_result"
    }
   ],
   "source": [
    "aa'"
   ]
  },
  {
   "cell_type": "code",
   "execution_count": 25,
   "id": "01a10eb1-0b65-44a0-8246-29c67e960627",
   "metadata": {},
   "outputs": [
    {
     "data": {
      "text/plain": [
       "1×1 Matrix{Int64}:\n",
       " 27"
      ]
     },
     "execution_count": 25,
     "metadata": {},
     "output_type": "execute_result"
    }
   ],
   "source": [
    "aa*AA*aa'"
   ]
  },
  {
   "cell_type": "code",
   "execution_count": 26,
   "id": "f49e23cd-1876-4f22-bf12-473e4b9edec2",
   "metadata": {},
   "outputs": [
    {
     "data": {
      "text/plain": [
       "([1 2], [1 2; 3 4], [1; 2;;])"
      ]
     },
     "execution_count": 26,
     "metadata": {},
     "output_type": "execute_result"
    }
   ],
   "source": [
    "aa, AA, aa'"
   ]
  },
  {
   "cell_type": "code",
   "execution_count": 27,
   "id": "f3a45e3b-47c3-4ba8-a350-e42316cabfc1",
   "metadata": {},
   "outputs": [
    {
     "name": "stdout",
     "output_type": "stream",
     "text": [
      "search: \u001b[0m\u001b[1mr\u001b[22m\u001b[0m\u001b[1me\u001b[22m\u001b[0m\u001b[1ma\u001b[22m\u001b[0m\u001b[1md\u001b[22m \u001b[0m\u001b[1mr\u001b[22m\u001b[0m\u001b[1me\u001b[22m\u001b[0m\u001b[1ma\u001b[22m\u001b[0m\u001b[1md\u001b[22m! \u001b[0m\u001b[1mr\u001b[22mpad \u001b[0m\u001b[1mr\u001b[22m\u001b[0m\u001b[1me\u001b[22m\u001b[0m\u001b[1ma\u001b[22ml b\u001b[0m\u001b[1mr\u001b[22m\u001b[0m\u001b[1me\u001b[22m\u001b[0m\u001b[1ma\u001b[22mk is\u001b[0m\u001b[1mr\u001b[22m\u001b[0m\u001b[1me\u001b[22m\u001b[0m\u001b[1ma\u001b[22m\u001b[0m\u001b[1md\u001b[22my \u001b[0m\u001b[1mr\u001b[22m\u001b[0m\u001b[1me\u001b[22m\u001b[0m\u001b[1ma\u001b[22m\u001b[0m\u001b[1md\u001b[22mdir Th\u001b[0m\u001b[1mr\u001b[22m\u001b[0m\u001b[1me\u001b[22m\u001b[0m\u001b[1ma\u001b[22m\u001b[0m\u001b[1md\u001b[22ms is\u001b[0m\u001b[1mr\u001b[22m\u001b[0m\u001b[1me\u001b[22m\u001b[0m\u001b[1ma\u001b[22ml lpad secd \u001b[0m\u001b[1mr\u001b[22m\u001b[0m\u001b[1me\u001b[22mm\n",
      "\n"
     ]
    },
    {
     "data": {
      "text/latex": [
       "\\begin{verbatim}\n",
       "read(io::IO, T)\n",
       "\\end{verbatim}\n",
       "Read a single value of type \\texttt{T} from \\texttt{io}, in canonical binary representation.\n",
       "\n",
       "Note that Julia does not convert the endianness for you. Use \\href{@ref}{\\texttt{ntoh}} or \\href{@ref}{\\texttt{ltoh}} for this purpose.\n",
       "\n",
       "\\begin{verbatim}\n",
       "read(io::IO, String)\n",
       "\\end{verbatim}\n",
       "Read the entirety of \\texttt{io}, as a \\texttt{String} (see also \\href{@ref}{\\texttt{readchomp}}).\n",
       "\n",
       "\\section{Examples}\n",
       "\\begin{verbatim}\n",
       "julia> io = IOBuffer(\"JuliaLang is a GitHub organization\");\n",
       "\n",
       "julia> read(io, Char)\n",
       "'J': ASCII/Unicode U+004A (category Lu: Letter, uppercase)\n",
       "\n",
       "julia> io = IOBuffer(\"JuliaLang is a GitHub organization\");\n",
       "\n",
       "julia> read(io, String)\n",
       "\"JuliaLang is a GitHub organization\"\n",
       "\\end{verbatim}\n",
       "\\rule{\\textwidth}{1pt}\n",
       "\\begin{verbatim}\n",
       "read(filename::AbstractString)\n",
       "\\end{verbatim}\n",
       "Read the entire contents of a file as a \\texttt{Vector\\{UInt8\\}}.\n",
       "\n",
       "\\begin{verbatim}\n",
       "read(filename::AbstractString, String)\n",
       "\\end{verbatim}\n",
       "Read the entire contents of a file as a string.\n",
       "\n",
       "\\begin{verbatim}\n",
       "read(filename::AbstractString, args...)\n",
       "\\end{verbatim}\n",
       "Open a file and read its contents. \\texttt{args} is passed to \\texttt{read}: this is equivalent to \\texttt{open(io->read(io, args...), filename)}.\n",
       "\n",
       "\\rule{\\textwidth}{1pt}\n",
       "\\begin{verbatim}\n",
       "read(s::IO, nb=typemax(Int))\n",
       "\\end{verbatim}\n",
       "Read at most \\texttt{nb} bytes from \\texttt{s}, returning a \\texttt{Vector\\{UInt8\\}} of the bytes read.\n",
       "\n",
       "\\rule{\\textwidth}{1pt}\n",
       "\\begin{verbatim}\n",
       "read(s::IOStream, nb::Integer; all=true)\n",
       "\\end{verbatim}\n",
       "Read at most \\texttt{nb} bytes from \\texttt{s}, returning a \\texttt{Vector\\{UInt8\\}} of the bytes read.\n",
       "\n",
       "If \\texttt{all} is \\texttt{true} (the default), this function will block repeatedly trying to read all requested bytes, until an error or end-of-file occurs. If \\texttt{all} is \\texttt{false}, at most one \\texttt{read} call is performed, and the amount of data returned is device-dependent. Note that not all stream types support the \\texttt{all} option.\n",
       "\n",
       "\\rule{\\textwidth}{1pt}\n",
       "\\begin{verbatim}\n",
       "read(command::Cmd)\n",
       "\\end{verbatim}\n",
       "Run \\texttt{command} and return the resulting output as an array of bytes.\n",
       "\n",
       "\\rule{\\textwidth}{1pt}\n",
       "\\begin{verbatim}\n",
       "read(command::Cmd, String)\n",
       "\\end{verbatim}\n",
       "Run \\texttt{command} and return the resulting output as a \\texttt{String}.\n",
       "\n"
      ],
      "text/markdown": [
       "```\n",
       "read(io::IO, T)\n",
       "```\n",
       "\n",
       "Read a single value of type `T` from `io`, in canonical binary representation.\n",
       "\n",
       "Note that Julia does not convert the endianness for you. Use [`ntoh`](@ref) or [`ltoh`](@ref) for this purpose.\n",
       "\n",
       "```\n",
       "read(io::IO, String)\n",
       "```\n",
       "\n",
       "Read the entirety of `io`, as a `String` (see also [`readchomp`](@ref)).\n",
       "\n",
       "# Examples\n",
       "\n",
       "```jldoctest\n",
       "julia> io = IOBuffer(\"JuliaLang is a GitHub organization\");\n",
       "\n",
       "julia> read(io, Char)\n",
       "'J': ASCII/Unicode U+004A (category Lu: Letter, uppercase)\n",
       "\n",
       "julia> io = IOBuffer(\"JuliaLang is a GitHub organization\");\n",
       "\n",
       "julia> read(io, String)\n",
       "\"JuliaLang is a GitHub organization\"\n",
       "```\n",
       "\n",
       "---\n",
       "\n",
       "```\n",
       "read(filename::AbstractString)\n",
       "```\n",
       "\n",
       "Read the entire contents of a file as a `Vector{UInt8}`.\n",
       "\n",
       "```\n",
       "read(filename::AbstractString, String)\n",
       "```\n",
       "\n",
       "Read the entire contents of a file as a string.\n",
       "\n",
       "```\n",
       "read(filename::AbstractString, args...)\n",
       "```\n",
       "\n",
       "Open a file and read its contents. `args` is passed to `read`: this is equivalent to `open(io->read(io, args...), filename)`.\n",
       "\n",
       "---\n",
       "\n",
       "```\n",
       "read(s::IO, nb=typemax(Int))\n",
       "```\n",
       "\n",
       "Read at most `nb` bytes from `s`, returning a `Vector{UInt8}` of the bytes read.\n",
       "\n",
       "---\n",
       "\n",
       "```\n",
       "read(s::IOStream, nb::Integer; all=true)\n",
       "```\n",
       "\n",
       "Read at most `nb` bytes from `s`, returning a `Vector{UInt8}` of the bytes read.\n",
       "\n",
       "If `all` is `true` (the default), this function will block repeatedly trying to read all requested bytes, until an error or end-of-file occurs. If `all` is `false`, at most one `read` call is performed, and the amount of data returned is device-dependent. Note that not all stream types support the `all` option.\n",
       "\n",
       "---\n",
       "\n",
       "```\n",
       "read(command::Cmd)\n",
       "```\n",
       "\n",
       "Run `command` and return the resulting output as an array of bytes.\n",
       "\n",
       "---\n",
       "\n",
       "```\n",
       "read(command::Cmd, String)\n",
       "```\n",
       "\n",
       "Run `command` and return the resulting output as a `String`.\n"
      ],
      "text/plain": [
       "\u001b[36m  read(io::IO, T)\u001b[39m\n",
       "\n",
       "  Read a single value of type \u001b[36mT\u001b[39m from \u001b[36mio\u001b[39m, in canonical binary representation.\n",
       "\n",
       "  Note that Julia does not convert the endianness for you. Use \u001b[36mntoh\u001b[39m or \u001b[36mltoh\u001b[39m\n",
       "  for this purpose.\n",
       "\n",
       "\u001b[36m  read(io::IO, String)\u001b[39m\n",
       "\n",
       "  Read the entirety of \u001b[36mio\u001b[39m, as a \u001b[36mString\u001b[39m (see also \u001b[36mreadchomp\u001b[39m).\n",
       "\n",
       "\u001b[1m  Examples\u001b[22m\n",
       "\u001b[1m  ≡≡≡≡≡≡≡≡\u001b[22m\n",
       "\n",
       "\u001b[36m  julia> io = IOBuffer(\"JuliaLang is a GitHub organization\");\u001b[39m\n",
       "\u001b[36m  \u001b[39m\n",
       "\u001b[36m  julia> read(io, Char)\u001b[39m\n",
       "\u001b[36m  'J': ASCII/Unicode U+004A (category Lu: Letter, uppercase)\u001b[39m\n",
       "\u001b[36m  \u001b[39m\n",
       "\u001b[36m  julia> io = IOBuffer(\"JuliaLang is a GitHub organization\");\u001b[39m\n",
       "\u001b[36m  \u001b[39m\n",
       "\u001b[36m  julia> read(io, String)\u001b[39m\n",
       "\u001b[36m  \"JuliaLang is a GitHub organization\"\u001b[39m\n",
       "\n",
       "  ────────────────────────────────────────────────────────────────────────────\n",
       "\n",
       "\u001b[36m  read(filename::AbstractString)\u001b[39m\n",
       "\n",
       "  Read the entire contents of a file as a \u001b[36mVector{UInt8}\u001b[39m.\n",
       "\n",
       "\u001b[36m  read(filename::AbstractString, String)\u001b[39m\n",
       "\n",
       "  Read the entire contents of a file as a string.\n",
       "\n",
       "\u001b[36m  read(filename::AbstractString, args...)\u001b[39m\n",
       "\n",
       "  Open a file and read its contents. \u001b[36margs\u001b[39m is passed to \u001b[36mread\u001b[39m: this is\n",
       "  equivalent to \u001b[36mopen(io->read(io, args...), filename)\u001b[39m.\n",
       "\n",
       "  ────────────────────────────────────────────────────────────────────────────\n",
       "\n",
       "\u001b[36m  read(s::IO, nb=typemax(Int))\u001b[39m\n",
       "\n",
       "  Read at most \u001b[36mnb\u001b[39m bytes from \u001b[36ms\u001b[39m, returning a \u001b[36mVector{UInt8}\u001b[39m of the bytes read.\n",
       "\n",
       "  ────────────────────────────────────────────────────────────────────────────\n",
       "\n",
       "\u001b[36m  read(s::IOStream, nb::Integer; all=true)\u001b[39m\n",
       "\n",
       "  Read at most \u001b[36mnb\u001b[39m bytes from \u001b[36ms\u001b[39m, returning a \u001b[36mVector{UInt8}\u001b[39m of the bytes read.\n",
       "\n",
       "  If \u001b[36mall\u001b[39m is \u001b[36mtrue\u001b[39m (the default), this function will block repeatedly trying to\n",
       "  read all requested bytes, until an error or end-of-file occurs. If \u001b[36mall\u001b[39m is\n",
       "  \u001b[36mfalse\u001b[39m, at most one \u001b[36mread\u001b[39m call is performed, and the amount of data returned\n",
       "  is device-dependent. Note that not all stream types support the \u001b[36mall\u001b[39m option.\n",
       "\n",
       "  ────────────────────────────────────────────────────────────────────────────\n",
       "\n",
       "\u001b[36m  read(command::Cmd)\u001b[39m\n",
       "\n",
       "  Run \u001b[36mcommand\u001b[39m and return the resulting output as an array of bytes.\n",
       "\n",
       "  ────────────────────────────────────────────────────────────────────────────\n",
       "\n",
       "\u001b[36m  read(command::Cmd, String)\u001b[39m\n",
       "\n",
       "  Run \u001b[36mcommand\u001b[39m and return the resulting output as a \u001b[36mString\u001b[39m."
      ]
     },
     "execution_count": 27,
     "metadata": {},
     "output_type": "execute_result"
    }
   ],
   "source": [
    "?read"
   ]
  },
  {
   "cell_type": "code",
   "execution_count": 28,
   "id": "d019dc70-f600-4623-988f-f0c2cc1a6db4",
   "metadata": {},
   "outputs": [
    {
     "data": {
      "text/plain": [
       "52-element Vector{UInt8}:\n",
       " 0xd0\n",
       " 0x9f\n",
       " 0xd0\n",
       " 0xb5\n",
       " 0xd1\n",
       " 0x80\n",
       " 0xd0\n",
       " 0xb2\n",
       " 0xd0\n",
       " 0xb0\n",
       " 0xd1\n",
       " 0x8f\n",
       " 0x20\n",
       "    ⋮\n",
       " 0x81\n",
       " 0xd1\n",
       " 0x82\n",
       " 0xd1\n",
       " 0x80\n",
       " 0xd0\n",
       " 0xbe\n",
       " 0xd0\n",
       " 0xba\n",
       " 0xd0\n",
       " 0xb0\n",
       " 0x0a"
      ]
     },
     "execution_count": 28,
     "metadata": {},
     "output_type": "execute_result"
    }
   ],
   "source": [
    "content = read(\"example.txt\")"
   ]
  },
  {
   "cell_type": "code",
   "execution_count": 29,
   "id": "5d6c047f-33ff-4c0a-bf7d-2a22091953f2",
   "metadata": {},
   "outputs": [
    {
     "data": {
      "text/plain": [
       "\"Первая строка\\nВторая строка\\n\""
      ]
     },
     "execution_count": 29,
     "metadata": {},
     "output_type": "execute_result"
    }
   ],
   "source": [
    "content = read(\"example.txt\", String)"
   ]
  },
  {
   "cell_type": "code",
   "execution_count": 30,
   "id": "74cb8f23-7ab4-4286-bb16-dc1f2e2dbe76",
   "metadata": {},
   "outputs": [
    {
     "name": "stdout",
     "output_type": "stream",
     "text": [
      "search: \u001b[0m\u001b[1mr\u001b[22m\u001b[0m\u001b[1me\u001b[22m\u001b[0m\u001b[1ma\u001b[22m\u001b[0m\u001b[1md\u001b[22m\u001b[0m\u001b[1ml\u001b[22m\u001b[0m\u001b[1mi\u001b[22m\u001b[0m\u001b[1mn\u001b[22m\u001b[0m\u001b[1me\u001b[22m \u001b[0m\u001b[1mr\u001b[22m\u001b[0m\u001b[1me\u001b[22m\u001b[0m\u001b[1ma\u001b[22m\u001b[0m\u001b[1md\u001b[22m\u001b[0m\u001b[1ml\u001b[22m\u001b[0m\u001b[1mi\u001b[22m\u001b[0m\u001b[1mn\u001b[22m\u001b[0m\u001b[1me\u001b[22ms \u001b[0m\u001b[1mr\u001b[22m\u001b[0m\u001b[1me\u001b[22m\u001b[0m\u001b[1ma\u001b[22m\u001b[0m\u001b[1md\u001b[22m\u001b[0m\u001b[1ml\u001b[22m\u001b[0m\u001b[1mi\u001b[22m\u001b[0m\u001b[1mn\u001b[22mk \u001b[0m\u001b[1mr\u001b[22m\u001b[0m\u001b[1me\u001b[22m\u001b[0m\u001b[1ma\u001b[22m\u001b[0m\u001b[1md\u001b[22mdir eachline \u001b[0m\u001b[1mr\u001b[22m\u001b[0m\u001b[1me\u001b[22m\u001b[0m\u001b[1ma\u001b[22m\u001b[0m\u001b[1md\u001b[22mbytes! \u001b[0m\u001b[1mr\u001b[22m\u001b[0m\u001b[1me\u001b[22mpl\u001b[0m\u001b[1ma\u001b[22mce @inline\n",
      "\n"
     ]
    },
    {
     "data": {
      "text/latex": [
       "\\begin{verbatim}\n",
       "readline(io::IO=stdin; keep::Bool=false)\n",
       "readline(filename::AbstractString; keep::Bool=false)\n",
       "\\end{verbatim}\n",
       "Read a single line of text from the given I/O stream or file (defaults to \\texttt{stdin}). When reading from a file, the text is assumed to be encoded in UTF-8. Lines in the input end with \\texttt{'{\\textbackslash}n'} or \\texttt{\"{\\textbackslash}r{\\textbackslash}n\"} or the end of an input stream. When \\texttt{keep} is false (as it is by default), these trailing newline characters are removed from the line before it is returned. When \\texttt{keep} is true, they are returned as part of the line.\n",
       "\n",
       "Return a \\texttt{String}.   See also \\href{@ref}{\\texttt{copyline}} to instead write in-place to another stream (which can be a preallocated \\href{@ref}{\\texttt{IOBuffer}}).\n",
       "\n",
       "See also \\href{@ref}{\\texttt{readuntil}} for reading until more general delimiters.\n",
       "\n",
       "\\section{Examples}\n",
       "\\begin{verbatim}\n",
       "julia> write(\"my_file.txt\", \"JuliaLang is a GitHub organization.\\nIt has many members.\\n\");\n",
       "\n",
       "julia> readline(\"my_file.txt\")\n",
       "\"JuliaLang is a GitHub organization.\"\n",
       "\n",
       "julia> readline(\"my_file.txt\", keep=true)\n",
       "\"JuliaLang is a GitHub organization.\\n\"\n",
       "\n",
       "julia> rm(\"my_file.txt\")\n",
       "\\end{verbatim}\n",
       "\\begin{verbatim}\n",
       "julia> print(\"Enter your name: \")\n",
       "Enter your name:\n",
       "\n",
       "julia> your_name = readline()\n",
       "Logan\n",
       "\"Logan\"\n",
       "\\end{verbatim}\n"
      ],
      "text/markdown": [
       "```\n",
       "readline(io::IO=stdin; keep::Bool=false)\n",
       "readline(filename::AbstractString; keep::Bool=false)\n",
       "```\n",
       "\n",
       "Read a single line of text from the given I/O stream or file (defaults to `stdin`). When reading from a file, the text is assumed to be encoded in UTF-8. Lines in the input end with `'\\n'` or `\"\\r\\n\"` or the end of an input stream. When `keep` is false (as it is by default), these trailing newline characters are removed from the line before it is returned. When `keep` is true, they are returned as part of the line.\n",
       "\n",
       "Return a `String`.   See also [`copyline`](@ref) to instead write in-place to another stream (which can be a preallocated [`IOBuffer`](@ref)).\n",
       "\n",
       "See also [`readuntil`](@ref) for reading until more general delimiters.\n",
       "\n",
       "# Examples\n",
       "\n",
       "```jldoctest\n",
       "julia> write(\"my_file.txt\", \"JuliaLang is a GitHub organization.\\nIt has many members.\\n\");\n",
       "\n",
       "julia> readline(\"my_file.txt\")\n",
       "\"JuliaLang is a GitHub organization.\"\n",
       "\n",
       "julia> readline(\"my_file.txt\", keep=true)\n",
       "\"JuliaLang is a GitHub organization.\\n\"\n",
       "\n",
       "julia> rm(\"my_file.txt\")\n",
       "```\n",
       "\n",
       "```julia-repl\n",
       "julia> print(\"Enter your name: \")\n",
       "Enter your name:\n",
       "\n",
       "julia> your_name = readline()\n",
       "Logan\n",
       "\"Logan\"\n",
       "```\n"
      ],
      "text/plain": [
       "\u001b[36m  readline(io::IO=stdin; keep::Bool=false)\u001b[39m\n",
       "\u001b[36m  readline(filename::AbstractString; keep::Bool=false)\u001b[39m\n",
       "\n",
       "  Read a single line of text from the given I/O stream or file (defaults to\n",
       "  \u001b[36mstdin\u001b[39m). When reading from a file, the text is assumed to be encoded in\n",
       "  UTF-8. Lines in the input end with \u001b[36m'\\n'\u001b[39m or \u001b[36m\"\\r\\n\"\u001b[39m or the end of an input\n",
       "  stream. When \u001b[36mkeep\u001b[39m is false (as it is by default), these trailing newline\n",
       "  characters are removed from the line before it is returned. When \u001b[36mkeep\u001b[39m is\n",
       "  true, they are returned as part of the line.\n",
       "\n",
       "  Return a \u001b[36mString\u001b[39m. See also \u001b[36mcopyline\u001b[39m to instead write in-place to another\n",
       "  stream (which can be a preallocated \u001b[36mIOBuffer\u001b[39m).\n",
       "\n",
       "  See also \u001b[36mreaduntil\u001b[39m for reading until more general delimiters.\n",
       "\n",
       "\u001b[1m  Examples\u001b[22m\n",
       "\u001b[1m  ≡≡≡≡≡≡≡≡\u001b[22m\n",
       "\n",
       "\u001b[36m  julia> write(\"my_file.txt\", \"JuliaLang is a GitHub organization.\\nIt has many members.\\n\");\u001b[39m\n",
       "\u001b[36m  \u001b[39m\n",
       "\u001b[36m  julia> readline(\"my_file.txt\")\u001b[39m\n",
       "\u001b[36m  \"JuliaLang is a GitHub organization.\"\u001b[39m\n",
       "\u001b[36m  \u001b[39m\n",
       "\u001b[36m  julia> readline(\"my_file.txt\", keep=true)\u001b[39m\n",
       "\u001b[36m  \"JuliaLang is a GitHub organization.\\n\"\u001b[39m\n",
       "\u001b[36m  \u001b[39m\n",
       "\u001b[36m  julia> rm(\"my_file.txt\")\u001b[39m\n",
       "\n",
       "\u001b[36m  julia> print(\"Enter your name: \")\u001b[39m\n",
       "\u001b[36m  Enter your name:\u001b[39m\n",
       "\u001b[36m  \u001b[39m\n",
       "\u001b[36m  julia> your_name = readline()\u001b[39m\n",
       "\u001b[36m  Logan\u001b[39m\n",
       "\u001b[36m  \"Logan\"\u001b[39m"
      ]
     },
     "execution_count": 30,
     "metadata": {},
     "output_type": "execute_result"
    }
   ],
   "source": [
    "?readline"
   ]
  },
  {
   "cell_type": "code",
   "execution_count": 31,
   "id": "6f827884-9b0c-48a1-8ebc-5e702a1e23cc",
   "metadata": {},
   "outputs": [
    {
     "data": {
      "text/plain": [
       "\"Первая строка\""
      ]
     },
     "execution_count": 31,
     "metadata": {},
     "output_type": "execute_result"
    }
   ],
   "source": [
    "content = readline(\"example.txt\")"
   ]
  },
  {
   "cell_type": "code",
   "execution_count": 32,
   "id": "8a88afb9-f707-4d7b-b4ad-15f997c958ce",
   "metadata": {},
   "outputs": [
    {
     "name": "stdout",
     "output_type": "stream",
     "text": [
      "search: \u001b[0m\u001b[1mr\u001b[22m\u001b[0m\u001b[1me\u001b[22m\u001b[0m\u001b[1ma\u001b[22m\u001b[0m\u001b[1md\u001b[22m\u001b[0m\u001b[1ml\u001b[22m\u001b[0m\u001b[1mi\u001b[22m\u001b[0m\u001b[1mn\u001b[22m\u001b[0m\u001b[1me\u001b[22m\u001b[0m\u001b[1ms\u001b[22m \u001b[0m\u001b[1mr\u001b[22m\u001b[0m\u001b[1me\u001b[22m\u001b[0m\u001b[1ma\u001b[22m\u001b[0m\u001b[1md\u001b[22m\u001b[0m\u001b[1ml\u001b[22m\u001b[0m\u001b[1mi\u001b[22m\u001b[0m\u001b[1mn\u001b[22m\u001b[0m\u001b[1me\u001b[22m \u001b[0m\u001b[1mr\u001b[22m\u001b[0m\u001b[1me\u001b[22m\u001b[0m\u001b[1ma\u001b[22m\u001b[0m\u001b[1md\u001b[22m\u001b[0m\u001b[1ml\u001b[22m\u001b[0m\u001b[1mi\u001b[22m\u001b[0m\u001b[1mn\u001b[22mk \u001b[0m\u001b[1mr\u001b[22m\u001b[0m\u001b[1me\u001b[22m\u001b[0m\u001b[1ma\u001b[22m\u001b[0m\u001b[1md\u001b[22mbytes! \u001b[0m\u001b[1mr\u001b[22m\u001b[0m\u001b[1me\u001b[22m\u001b[0m\u001b[1ma\u001b[22m\u001b[0m\u001b[1md\u001b[22mdir eachline leading_ones\n",
      "\n"
     ]
    },
    {
     "data": {
      "text/latex": [
       "\\begin{verbatim}\n",
       "readlines(io::IO=stdin; keep::Bool=false)\n",
       "readlines(filename::AbstractString; keep::Bool=false)\n",
       "\\end{verbatim}\n",
       "Read all lines of an I/O stream or a file as a vector of strings. Behavior is equivalent to saving the result of reading \\href{@ref}{\\texttt{readline}} repeatedly with the same arguments and saving the resulting lines as a vector of strings.  See also \\href{@ref}{\\texttt{eachline}} to iterate over the lines without reading them all at once.\n",
       "\n",
       "\\section{Examples}\n",
       "\\begin{verbatim}\n",
       "julia> write(\"my_file.txt\", \"JuliaLang is a GitHub organization.\\nIt has many members.\\n\");\n",
       "\n",
       "julia> readlines(\"my_file.txt\")\n",
       "2-element Vector{String}:\n",
       " \"JuliaLang is a GitHub organization.\"\n",
       " \"It has many members.\"\n",
       "\n",
       "julia> readlines(\"my_file.txt\", keep=true)\n",
       "2-element Vector{String}:\n",
       " \"JuliaLang is a GitHub organization.\\n\"\n",
       " \"It has many members.\\n\"\n",
       "\n",
       "julia> rm(\"my_file.txt\")\n",
       "\\end{verbatim}\n"
      ],
      "text/markdown": [
       "```\n",
       "readlines(io::IO=stdin; keep::Bool=false)\n",
       "readlines(filename::AbstractString; keep::Bool=false)\n",
       "```\n",
       "\n",
       "Read all lines of an I/O stream or a file as a vector of strings. Behavior is equivalent to saving the result of reading [`readline`](@ref) repeatedly with the same arguments and saving the resulting lines as a vector of strings.  See also [`eachline`](@ref) to iterate over the lines without reading them all at once.\n",
       "\n",
       "# Examples\n",
       "\n",
       "```jldoctest\n",
       "julia> write(\"my_file.txt\", \"JuliaLang is a GitHub organization.\\nIt has many members.\\n\");\n",
       "\n",
       "julia> readlines(\"my_file.txt\")\n",
       "2-element Vector{String}:\n",
       " \"JuliaLang is a GitHub organization.\"\n",
       " \"It has many members.\"\n",
       "\n",
       "julia> readlines(\"my_file.txt\", keep=true)\n",
       "2-element Vector{String}:\n",
       " \"JuliaLang is a GitHub organization.\\n\"\n",
       " \"It has many members.\\n\"\n",
       "\n",
       "julia> rm(\"my_file.txt\")\n",
       "```\n"
      ],
      "text/plain": [
       "\u001b[36m  readlines(io::IO=stdin; keep::Bool=false)\u001b[39m\n",
       "\u001b[36m  readlines(filename::AbstractString; keep::Bool=false)\u001b[39m\n",
       "\n",
       "  Read all lines of an I/O stream or a file as a vector of strings. Behavior\n",
       "  is equivalent to saving the result of reading \u001b[36mreadline\u001b[39m repeatedly with the\n",
       "  same arguments and saving the resulting lines as a vector of strings. See\n",
       "  also \u001b[36meachline\u001b[39m to iterate over the lines without reading them all at once.\n",
       "\n",
       "\u001b[1m  Examples\u001b[22m\n",
       "\u001b[1m  ≡≡≡≡≡≡≡≡\u001b[22m\n",
       "\n",
       "\u001b[36m  julia> write(\"my_file.txt\", \"JuliaLang is a GitHub organization.\\nIt has many members.\\n\");\u001b[39m\n",
       "\u001b[36m  \u001b[39m\n",
       "\u001b[36m  julia> readlines(\"my_file.txt\")\u001b[39m\n",
       "\u001b[36m  2-element Vector{String}:\u001b[39m\n",
       "\u001b[36m   \"JuliaLang is a GitHub organization.\"\u001b[39m\n",
       "\u001b[36m   \"It has many members.\"\u001b[39m\n",
       "\u001b[36m  \u001b[39m\n",
       "\u001b[36m  julia> readlines(\"my_file.txt\", keep=true)\u001b[39m\n",
       "\u001b[36m  2-element Vector{String}:\u001b[39m\n",
       "\u001b[36m   \"JuliaLang is a GitHub organization.\\n\"\u001b[39m\n",
       "\u001b[36m   \"It has many members.\\n\"\u001b[39m\n",
       "\u001b[36m  \u001b[39m\n",
       "\u001b[36m  julia> rm(\"my_file.txt\")\u001b[39m"
      ]
     },
     "execution_count": 32,
     "metadata": {},
     "output_type": "execute_result"
    }
   ],
   "source": [
    "?readlines"
   ]
  },
  {
   "cell_type": "code",
   "execution_count": 33,
   "id": "71681f85-d704-4039-87be-da78abccee15",
   "metadata": {},
   "outputs": [
    {
     "data": {
      "text/plain": [
       "2-element Vector{String}:\n",
       " \"Первая строка\"\n",
       " \"Вторая строка\""
      ]
     },
     "execution_count": 33,
     "metadata": {},
     "output_type": "execute_result"
    }
   ],
   "source": [
    "content = readlines(\"example.txt\")"
   ]
  },
  {
   "cell_type": "code",
   "execution_count": 36,
   "id": "31532b01-25d7-4fde-9cdc-27edbf96afe0",
   "metadata": {},
   "outputs": [],
   "source": [
    "using DelimitedFiles"
   ]
  },
  {
   "cell_type": "code",
   "execution_count": 37,
   "id": "5e55e91f-0f38-4388-b10e-e887cae622d1",
   "metadata": {},
   "outputs": [
    {
     "name": "stdout",
     "output_type": "stream",
     "text": [
      "search: \u001b[0m\u001b[1mr\u001b[22m\u001b[0m\u001b[1me\u001b[22m\u001b[0m\u001b[1ma\u001b[22m\u001b[0m\u001b[1md\u001b[22m\u001b[0m\u001b[1md\u001b[22m\u001b[0m\u001b[1ml\u001b[22m\u001b[0m\u001b[1mm\u001b[22m \u001b[0m\u001b[1mr\u001b[22m\u001b[0m\u001b[1me\u001b[22m\u001b[0m\u001b[1ma\u001b[22m\u001b[0m\u001b[1md\u001b[22m\u001b[0m\u001b[1md\u001b[22mir \u001b[0m\u001b[1mr\u001b[22m\u001b[0m\u001b[1me\u001b[22m\u001b[0m\u001b[1ma\u001b[22m\u001b[0m\u001b[1md\u001b[22m \u001b[0m\u001b[1mr\u001b[22m\u001b[0m\u001b[1me\u001b[22m\u001b[0m\u001b[1ma\u001b[22ml \u001b[0m\u001b[1mr\u001b[22m\u001b[0m\u001b[1me\u001b[22m\u001b[0m\u001b[1ma\u001b[22m\u001b[0m\u001b[1md\u001b[22m! \u001b[0m\u001b[1mr\u001b[22m\u001b[0m\u001b[1me\u001b[22m\u001b[0m\u001b[1ma\u001b[22m\u001b[0m\u001b[1md\u001b[22mchomp is\u001b[0m\u001b[1mr\u001b[22m\u001b[0m\u001b[1me\u001b[22m\u001b[0m\u001b[1ma\u001b[22m\u001b[0m\u001b[1md\u001b[22monly \u001b[0m\u001b[1mr\u001b[22m\u001b[0m\u001b[1me\u001b[22m\u001b[0m\u001b[1ma\u001b[22m\u001b[0m\u001b[1md\u001b[22mlink is\u001b[0m\u001b[1mr\u001b[22m\u001b[0m\u001b[1me\u001b[22m\u001b[0m\u001b[1ma\u001b[22m\u001b[0m\u001b[1md\u001b[22mable\n",
      "\n"
     ]
    },
    {
     "data": {
      "text/latex": [
       "\\begin{verbatim}\n",
       "readdlm(source, T::Type; options...)\n",
       "\\end{verbatim}\n",
       "The columns are assumed to be separated by one or more whitespaces. The end of line delimiter is taken as \\texttt{{\\textbackslash}n}.\n",
       "\n",
       "\\section{Examples}\n",
       "\\begin{verbatim}\n",
       "julia> using DelimitedFiles\n",
       "\n",
       "julia> x = [1; 2; 3; 4];\n",
       "\n",
       "julia> y = [5; 6; 7; 8];\n",
       "\n",
       "julia> open(\"delim_file.txt\", \"w\") do io\n",
       "           writedlm(io, [x y])\n",
       "       end;\n",
       "\n",
       "julia> readdlm(\"delim_file.txt\", Int64)\n",
       "4×2 Matrix{Int64}:\n",
       " 1  5\n",
       " 2  6\n",
       " 3  7\n",
       " 4  8\n",
       "\n",
       "julia> readdlm(\"delim_file.txt\", Float64)\n",
       "4×2 Matrix{Float64}:\n",
       " 1.0  5.0\n",
       " 2.0  6.0\n",
       " 3.0  7.0\n",
       " 4.0  8.0\n",
       "\n",
       "julia> rm(\"delim_file.txt\")\n",
       "\\end{verbatim}\n",
       "\\rule{\\textwidth}{1pt}\n",
       "\\begin{verbatim}\n",
       "readdlm(source, delim::AbstractChar, T::Type; options...)\n",
       "\\end{verbatim}\n",
       "The end of line delimiter is taken as \\texttt{{\\textbackslash}n}.\n",
       "\n",
       "\\section{Examples}\n",
       "\\begin{verbatim}\n",
       "julia> using DelimitedFiles\n",
       "\n",
       "julia> x = [1; 2; 3; 4];\n",
       "\n",
       "julia> y = [1.1; 2.2; 3.3; 4.4];\n",
       "\n",
       "julia> open(\"delim_file.txt\", \"w\") do io\n",
       "           writedlm(io, [x y], ',')\n",
       "       end;\n",
       "\n",
       "julia> readdlm(\"delim_file.txt\", ',', Float64)\n",
       "4×2 Matrix{Float64}:\n",
       " 1.0  1.1\n",
       " 2.0  2.2\n",
       " 3.0  3.3\n",
       " 4.0  4.4\n",
       "\n",
       "julia> rm(\"delim_file.txt\")\n",
       "\\end{verbatim}\n",
       "\\rule{\\textwidth}{1pt}\n",
       "\\begin{verbatim}\n",
       "readdlm(source; options...)\n",
       "\\end{verbatim}\n",
       "The columns are assumed to be separated by one or more whitespaces. The end of line delimiter is taken as \\texttt{{\\textbackslash}n}. If all data is numeric, the result will be a numeric array. If some elements cannot be parsed as numbers, a heterogeneous array of numbers and strings is returned.\n",
       "\n",
       "\\section{Examples}\n",
       "\\begin{verbatim}\n",
       "julia> using DelimitedFiles\n",
       "\n",
       "julia> x = [1; 2; 3; 4];\n",
       "\n",
       "julia> y = [\"a\"; \"b\"; \"c\"; \"d\"];\n",
       "\n",
       "julia> open(\"delim_file.txt\", \"w\") do io\n",
       "           writedlm(io, [x y])\n",
       "       end;\n",
       "\n",
       "julia> readdlm(\"delim_file.txt\")\n",
       "4×2 Matrix{Any}:\n",
       " 1  \"a\"\n",
       " 2  \"b\"\n",
       " 3  \"c\"\n",
       " 4  \"d\"\n",
       "\n",
       "julia> rm(\"delim_file.txt\")\n",
       "\\end{verbatim}\n",
       "\\rule{\\textwidth}{1pt}\n",
       "\\begin{verbatim}\n",
       "readdlm(source, delim::AbstractChar; options...)\n",
       "\\end{verbatim}\n",
       "The end of line delimiter is taken as \\texttt{{\\textbackslash}n}. If all data is numeric, the result will be a numeric array. If some elements cannot be parsed as numbers, a heterogeneous array of numbers and strings is returned.\n",
       "\n",
       "\\section{Examples}\n",
       "\\begin{verbatim}\n",
       "julia> using DelimitedFiles\n",
       "\n",
       "julia> x = [1; 2; 3; 4];\n",
       "\n",
       "julia> y = [1.1; 2.2; 3.3; 4.4];\n",
       "\n",
       "julia> open(\"delim_file.txt\", \"w\") do io\n",
       "           writedlm(io, [x y], ',')\n",
       "       end;\n",
       "\n",
       "julia> readdlm(\"delim_file.txt\", ',')\n",
       "4×2 Matrix{Float64}:\n",
       " 1.0  1.1\n",
       " 2.0  2.2\n",
       " 3.0  3.3\n",
       " 4.0  4.4\n",
       "\n",
       "julia> z = [\"a\"; \"b\"; \"c\"; \"d\"];\n",
       "\n",
       "julia> open(\"delim_file.txt\", \"w\") do io\n",
       "           writedlm(io, [x z], ',')\n",
       "       end;\n",
       "\n",
       "julia> readdlm(\"delim_file.txt\", ',')\n",
       "4×2 Matrix{Any}:\n",
       " 1  \"a\"\n",
       " 2  \"b\"\n",
       " 3  \"c\"\n",
       " 4  \"d\"\n",
       "\n",
       "julia> rm(\"delim_file.txt\")\n",
       "\\end{verbatim}\n",
       "\\rule{\\textwidth}{1pt}\n",
       "\\begin{verbatim}\n",
       "readdlm(source, delim::AbstractChar, eol::AbstractChar; options...)\n",
       "\\end{verbatim}\n",
       "If all data is numeric, the result will be a numeric array. If some elements cannot be parsed as numbers, a heterogeneous array of numbers and strings is returned.\n",
       "\n",
       "\\rule{\\textwidth}{1pt}\n",
       "\\begin{verbatim}\n",
       "readdlm(source, delim::AbstractChar, T::Type, eol::AbstractChar; header=false, skipstart=0, skipblanks=true, use_mmap, quotes=true, dims, comments=false, comment_char='#')\n",
       "\\end{verbatim}\n",
       "Read a matrix from the source where each line (separated by \\texttt{eol}) gives one row, with elements separated by the given delimiter. The source can be a text file, stream or byte array. Memory mapped files can be used by passing the byte array representation of the mapped segment as source.\n",
       "\n",
       "If \\texttt{T} is a numeric type, the result is an array of that type, with any non-numeric elements as \\texttt{NaN} for floating-point types, or zero. Other useful values of \\texttt{T} include \\texttt{String}, \\texttt{AbstractString}, and \\texttt{Any}.\n",
       "\n",
       "If \\texttt{header} is \\texttt{true}, the first row of data will be read as header and the tuple \\texttt{(data\\_cells, header\\_cells)} is returned instead of only \\texttt{data\\_cells}.\n",
       "\n",
       "Specifying \\texttt{skipstart} will ignore the corresponding number of initial lines from the input.\n",
       "\n",
       "If \\texttt{skipblanks} is \\texttt{true}, blank lines in the input will be ignored.\n",
       "\n",
       "If \\texttt{use\\_mmap} is \\texttt{true}, the file specified by \\texttt{source} is memory mapped for potential speedups if the file is large. Default is \\texttt{false}. On a Windows filesystem, \\texttt{use\\_mmap} should not be set to \\texttt{true} unless the file is only read once and is also not written to. Some edge cases exist where an OS is Unix-like but the filesystem is Windows-like.\n",
       "\n",
       "If \\texttt{quotes} is \\texttt{true}, columns enclosed within double-quote (\") characters are allowed to contain new lines and column delimiters. Double-quote characters within a quoted field must be escaped with another double-quote.  Specifying \\texttt{dims} as a tuple of the expected rows and columns (including header, if any) may speed up reading of large files.  If \\texttt{comments} is \\texttt{true}, lines beginning with \\texttt{comment\\_char} and text following \\texttt{comment\\_char} in any line are ignored.\n",
       "\n",
       "\\section{Examples}\n",
       "\\begin{verbatim}\n",
       "julia> using DelimitedFiles\n",
       "\n",
       "julia> x = [1; 2; 3; 4];\n",
       "\n",
       "julia> y = [5; 6; 7; 8];\n",
       "\n",
       "julia> open(\"delim_file.txt\", \"w\") do io\n",
       "           writedlm(io, [x y])\n",
       "       end\n",
       "\n",
       "julia> readdlm(\"delim_file.txt\", '\\t', Int, '\\n')\n",
       "4×2 Matrix{Int64}:\n",
       " 1  5\n",
       " 2  6\n",
       " 3  7\n",
       " 4  8\n",
       "\n",
       "julia> rm(\"delim_file.txt\")\n",
       "\\end{verbatim}\n"
      ],
      "text/markdown": [
       "```\n",
       "readdlm(source, T::Type; options...)\n",
       "```\n",
       "\n",
       "The columns are assumed to be separated by one or more whitespaces. The end of line delimiter is taken as `\\n`.\n",
       "\n",
       "# Examples\n",
       "\n",
       "```jldoctest\n",
       "julia> using DelimitedFiles\n",
       "\n",
       "julia> x = [1; 2; 3; 4];\n",
       "\n",
       "julia> y = [5; 6; 7; 8];\n",
       "\n",
       "julia> open(\"delim_file.txt\", \"w\") do io\n",
       "           writedlm(io, [x y])\n",
       "       end;\n",
       "\n",
       "julia> readdlm(\"delim_file.txt\", Int64)\n",
       "4×2 Matrix{Int64}:\n",
       " 1  5\n",
       " 2  6\n",
       " 3  7\n",
       " 4  8\n",
       "\n",
       "julia> readdlm(\"delim_file.txt\", Float64)\n",
       "4×2 Matrix{Float64}:\n",
       " 1.0  5.0\n",
       " 2.0  6.0\n",
       " 3.0  7.0\n",
       " 4.0  8.0\n",
       "\n",
       "julia> rm(\"delim_file.txt\")\n",
       "```\n",
       "\n",
       "---\n",
       "\n",
       "```\n",
       "readdlm(source, delim::AbstractChar, T::Type; options...)\n",
       "```\n",
       "\n",
       "The end of line delimiter is taken as `\\n`.\n",
       "\n",
       "# Examples\n",
       "\n",
       "```jldoctest\n",
       "julia> using DelimitedFiles\n",
       "\n",
       "julia> x = [1; 2; 3; 4];\n",
       "\n",
       "julia> y = [1.1; 2.2; 3.3; 4.4];\n",
       "\n",
       "julia> open(\"delim_file.txt\", \"w\") do io\n",
       "           writedlm(io, [x y], ',')\n",
       "       end;\n",
       "\n",
       "julia> readdlm(\"delim_file.txt\", ',', Float64)\n",
       "4×2 Matrix{Float64}:\n",
       " 1.0  1.1\n",
       " 2.0  2.2\n",
       " 3.0  3.3\n",
       " 4.0  4.4\n",
       "\n",
       "julia> rm(\"delim_file.txt\")\n",
       "```\n",
       "\n",
       "---\n",
       "\n",
       "```\n",
       "readdlm(source; options...)\n",
       "```\n",
       "\n",
       "The columns are assumed to be separated by one or more whitespaces. The end of line delimiter is taken as `\\n`. If all data is numeric, the result will be a numeric array. If some elements cannot be parsed as numbers, a heterogeneous array of numbers and strings is returned.\n",
       "\n",
       "# Examples\n",
       "\n",
       "```jldoctest\n",
       "julia> using DelimitedFiles\n",
       "\n",
       "julia> x = [1; 2; 3; 4];\n",
       "\n",
       "julia> y = [\"a\"; \"b\"; \"c\"; \"d\"];\n",
       "\n",
       "julia> open(\"delim_file.txt\", \"w\") do io\n",
       "           writedlm(io, [x y])\n",
       "       end;\n",
       "\n",
       "julia> readdlm(\"delim_file.txt\")\n",
       "4×2 Matrix{Any}:\n",
       " 1  \"a\"\n",
       " 2  \"b\"\n",
       " 3  \"c\"\n",
       " 4  \"d\"\n",
       "\n",
       "julia> rm(\"delim_file.txt\")\n",
       "```\n",
       "\n",
       "---\n",
       "\n",
       "```\n",
       "readdlm(source, delim::AbstractChar; options...)\n",
       "```\n",
       "\n",
       "The end of line delimiter is taken as `\\n`. If all data is numeric, the result will be a numeric array. If some elements cannot be parsed as numbers, a heterogeneous array of numbers and strings is returned.\n",
       "\n",
       "# Examples\n",
       "\n",
       "```jldoctest\n",
       "julia> using DelimitedFiles\n",
       "\n",
       "julia> x = [1; 2; 3; 4];\n",
       "\n",
       "julia> y = [1.1; 2.2; 3.3; 4.4];\n",
       "\n",
       "julia> open(\"delim_file.txt\", \"w\") do io\n",
       "           writedlm(io, [x y], ',')\n",
       "       end;\n",
       "\n",
       "julia> readdlm(\"delim_file.txt\", ',')\n",
       "4×2 Matrix{Float64}:\n",
       " 1.0  1.1\n",
       " 2.0  2.2\n",
       " 3.0  3.3\n",
       " 4.0  4.4\n",
       "\n",
       "julia> z = [\"a\"; \"b\"; \"c\"; \"d\"];\n",
       "\n",
       "julia> open(\"delim_file.txt\", \"w\") do io\n",
       "           writedlm(io, [x z], ',')\n",
       "       end;\n",
       "\n",
       "julia> readdlm(\"delim_file.txt\", ',')\n",
       "4×2 Matrix{Any}:\n",
       " 1  \"a\"\n",
       " 2  \"b\"\n",
       " 3  \"c\"\n",
       " 4  \"d\"\n",
       "\n",
       "julia> rm(\"delim_file.txt\")\n",
       "```\n",
       "\n",
       "---\n",
       "\n",
       "```\n",
       "readdlm(source, delim::AbstractChar, eol::AbstractChar; options...)\n",
       "```\n",
       "\n",
       "If all data is numeric, the result will be a numeric array. If some elements cannot be parsed as numbers, a heterogeneous array of numbers and strings is returned.\n",
       "\n",
       "---\n",
       "\n",
       "```\n",
       "readdlm(source, delim::AbstractChar, T::Type, eol::AbstractChar; header=false, skipstart=0, skipblanks=true, use_mmap, quotes=true, dims, comments=false, comment_char='#')\n",
       "```\n",
       "\n",
       "Read a matrix from the source where each line (separated by `eol`) gives one row, with elements separated by the given delimiter. The source can be a text file, stream or byte array. Memory mapped files can be used by passing the byte array representation of the mapped segment as source.\n",
       "\n",
       "If `T` is a numeric type, the result is an array of that type, with any non-numeric elements as `NaN` for floating-point types, or zero. Other useful values of `T` include `String`, `AbstractString`, and `Any`.\n",
       "\n",
       "If `header` is `true`, the first row of data will be read as header and the tuple `(data_cells, header_cells)` is returned instead of only `data_cells`.\n",
       "\n",
       "Specifying `skipstart` will ignore the corresponding number of initial lines from the input.\n",
       "\n",
       "If `skipblanks` is `true`, blank lines in the input will be ignored.\n",
       "\n",
       "If `use_mmap` is `true`, the file specified by `source` is memory mapped for potential speedups if the file is large. Default is `false`. On a Windows filesystem, `use_mmap` should not be set to `true` unless the file is only read once and is also not written to. Some edge cases exist where an OS is Unix-like but the filesystem is Windows-like.\n",
       "\n",
       "If `quotes` is `true`, columns enclosed within double-quote (\") characters are allowed to contain new lines and column delimiters. Double-quote characters within a quoted field must be escaped with another double-quote.  Specifying `dims` as a tuple of the expected rows and columns (including header, if any) may speed up reading of large files.  If `comments` is `true`, lines beginning with `comment_char` and text following `comment_char` in any line are ignored.\n",
       "\n",
       "# Examples\n",
       "\n",
       "```jldoctest\n",
       "julia> using DelimitedFiles\n",
       "\n",
       "julia> x = [1; 2; 3; 4];\n",
       "\n",
       "julia> y = [5; 6; 7; 8];\n",
       "\n",
       "julia> open(\"delim_file.txt\", \"w\") do io\n",
       "           writedlm(io, [x y])\n",
       "       end\n",
       "\n",
       "julia> readdlm(\"delim_file.txt\", '\\t', Int, '\\n')\n",
       "4×2 Matrix{Int64}:\n",
       " 1  5\n",
       " 2  6\n",
       " 3  7\n",
       " 4  8\n",
       "\n",
       "julia> rm(\"delim_file.txt\")\n",
       "```\n"
      ],
      "text/plain": [
       "\u001b[36m  readdlm(source, T::Type; options...)\u001b[39m\n",
       "\n",
       "  The columns are assumed to be separated by one or more whitespaces. The end\n",
       "  of line delimiter is taken as \u001b[36m\\n\u001b[39m.\n",
       "\n",
       "\u001b[1m  Examples\u001b[22m\n",
       "\u001b[1m  ≡≡≡≡≡≡≡≡\u001b[22m\n",
       "\n",
       "\u001b[36m  julia> using DelimitedFiles\u001b[39m\n",
       "\u001b[36m  \u001b[39m\n",
       "\u001b[36m  julia> x = [1; 2; 3; 4];\u001b[39m\n",
       "\u001b[36m  \u001b[39m\n",
       "\u001b[36m  julia> y = [5; 6; 7; 8];\u001b[39m\n",
       "\u001b[36m  \u001b[39m\n",
       "\u001b[36m  julia> open(\"delim_file.txt\", \"w\") do io\u001b[39m\n",
       "\u001b[36m             writedlm(io, [x y])\u001b[39m\n",
       "\u001b[36m         end;\u001b[39m\n",
       "\u001b[36m  \u001b[39m\n",
       "\u001b[36m  julia> readdlm(\"delim_file.txt\", Int64)\u001b[39m\n",
       "\u001b[36m  4×2 Matrix{Int64}:\u001b[39m\n",
       "\u001b[36m   1  5\u001b[39m\n",
       "\u001b[36m   2  6\u001b[39m\n",
       "\u001b[36m   3  7\u001b[39m\n",
       "\u001b[36m   4  8\u001b[39m\n",
       "\u001b[36m  \u001b[39m\n",
       "\u001b[36m  julia> readdlm(\"delim_file.txt\", Float64)\u001b[39m\n",
       "\u001b[36m  4×2 Matrix{Float64}:\u001b[39m\n",
       "\u001b[36m   1.0  5.0\u001b[39m\n",
       "\u001b[36m   2.0  6.0\u001b[39m\n",
       "\u001b[36m   3.0  7.0\u001b[39m\n",
       "\u001b[36m   4.0  8.0\u001b[39m\n",
       "\u001b[36m  \u001b[39m\n",
       "\u001b[36m  julia> rm(\"delim_file.txt\")\u001b[39m\n",
       "\n",
       "  ────────────────────────────────────────────────────────────────────────────\n",
       "\n",
       "\u001b[36m  readdlm(source, delim::AbstractChar, T::Type; options...)\u001b[39m\n",
       "\n",
       "  The end of line delimiter is taken as \u001b[36m\\n\u001b[39m.\n",
       "\n",
       "\u001b[1m  Examples\u001b[22m\n",
       "\u001b[1m  ≡≡≡≡≡≡≡≡\u001b[22m\n",
       "\n",
       "\u001b[36m  julia> using DelimitedFiles\u001b[39m\n",
       "\u001b[36m  \u001b[39m\n",
       "\u001b[36m  julia> x = [1; 2; 3; 4];\u001b[39m\n",
       "\u001b[36m  \u001b[39m\n",
       "\u001b[36m  julia> y = [1.1; 2.2; 3.3; 4.4];\u001b[39m\n",
       "\u001b[36m  \u001b[39m\n",
       "\u001b[36m  julia> open(\"delim_file.txt\", \"w\") do io\u001b[39m\n",
       "\u001b[36m             writedlm(io, [x y], ',')\u001b[39m\n",
       "\u001b[36m         end;\u001b[39m\n",
       "\u001b[36m  \u001b[39m\n",
       "\u001b[36m  julia> readdlm(\"delim_file.txt\", ',', Float64)\u001b[39m\n",
       "\u001b[36m  4×2 Matrix{Float64}:\u001b[39m\n",
       "\u001b[36m   1.0  1.1\u001b[39m\n",
       "\u001b[36m   2.0  2.2\u001b[39m\n",
       "\u001b[36m   3.0  3.3\u001b[39m\n",
       "\u001b[36m   4.0  4.4\u001b[39m\n",
       "\u001b[36m  \u001b[39m\n",
       "\u001b[36m  julia> rm(\"delim_file.txt\")\u001b[39m\n",
       "\n",
       "  ────────────────────────────────────────────────────────────────────────────\n",
       "\n",
       "\u001b[36m  readdlm(source; options...)\u001b[39m\n",
       "\n",
       "  The columns are assumed to be separated by one or more whitespaces. The end\n",
       "  of line delimiter is taken as \u001b[36m\\n\u001b[39m. If all data is numeric, the result will be\n",
       "  a numeric array. If some elements cannot be parsed as numbers, a\n",
       "  heterogeneous array of numbers and strings is returned.\n",
       "\n",
       "\u001b[1m  Examples\u001b[22m\n",
       "\u001b[1m  ≡≡≡≡≡≡≡≡\u001b[22m\n",
       "\n",
       "\u001b[36m  julia> using DelimitedFiles\u001b[39m\n",
       "\u001b[36m  \u001b[39m\n",
       "\u001b[36m  julia> x = [1; 2; 3; 4];\u001b[39m\n",
       "\u001b[36m  \u001b[39m\n",
       "\u001b[36m  julia> y = [\"a\"; \"b\"; \"c\"; \"d\"];\u001b[39m\n",
       "\u001b[36m  \u001b[39m\n",
       "\u001b[36m  julia> open(\"delim_file.txt\", \"w\") do io\u001b[39m\n",
       "\u001b[36m             writedlm(io, [x y])\u001b[39m\n",
       "\u001b[36m         end;\u001b[39m\n",
       "\u001b[36m  \u001b[39m\n",
       "\u001b[36m  julia> readdlm(\"delim_file.txt\")\u001b[39m\n",
       "\u001b[36m  4×2 Matrix{Any}:\u001b[39m\n",
       "\u001b[36m   1  \"a\"\u001b[39m\n",
       "\u001b[36m   2  \"b\"\u001b[39m\n",
       "\u001b[36m   3  \"c\"\u001b[39m\n",
       "\u001b[36m   4  \"d\"\u001b[39m\n",
       "\u001b[36m  \u001b[39m\n",
       "\u001b[36m  julia> rm(\"delim_file.txt\")\u001b[39m\n",
       "\n",
       "  ────────────────────────────────────────────────────────────────────────────\n",
       "\n",
       "\u001b[36m  readdlm(source, delim::AbstractChar; options...)\u001b[39m\n",
       "\n",
       "  The end of line delimiter is taken as \u001b[36m\\n\u001b[39m. If all data is numeric, the result\n",
       "  will be a numeric array. If some elements cannot be parsed as numbers, a\n",
       "  heterogeneous array of numbers and strings is returned.\n",
       "\n",
       "\u001b[1m  Examples\u001b[22m\n",
       "\u001b[1m  ≡≡≡≡≡≡≡≡\u001b[22m\n",
       "\n",
       "\u001b[36m  julia> using DelimitedFiles\u001b[39m\n",
       "\u001b[36m  \u001b[39m\n",
       "\u001b[36m  julia> x = [1; 2; 3; 4];\u001b[39m\n",
       "\u001b[36m  \u001b[39m\n",
       "\u001b[36m  julia> y = [1.1; 2.2; 3.3; 4.4];\u001b[39m\n",
       "\u001b[36m  \u001b[39m\n",
       "\u001b[36m  julia> open(\"delim_file.txt\", \"w\") do io\u001b[39m\n",
       "\u001b[36m             writedlm(io, [x y], ',')\u001b[39m\n",
       "\u001b[36m         end;\u001b[39m\n",
       "\u001b[36m  \u001b[39m\n",
       "\u001b[36m  julia> readdlm(\"delim_file.txt\", ',')\u001b[39m\n",
       "\u001b[36m  4×2 Matrix{Float64}:\u001b[39m\n",
       "\u001b[36m   1.0  1.1\u001b[39m\n",
       "\u001b[36m   2.0  2.2\u001b[39m\n",
       "\u001b[36m   3.0  3.3\u001b[39m\n",
       "\u001b[36m   4.0  4.4\u001b[39m\n",
       "\u001b[36m  \u001b[39m\n",
       "\u001b[36m  julia> z = [\"a\"; \"b\"; \"c\"; \"d\"];\u001b[39m\n",
       "\u001b[36m  \u001b[39m\n",
       "\u001b[36m  julia> open(\"delim_file.txt\", \"w\") do io\u001b[39m\n",
       "\u001b[36m             writedlm(io, [x z], ',')\u001b[39m\n",
       "\u001b[36m         end;\u001b[39m\n",
       "\u001b[36m  \u001b[39m\n",
       "\u001b[36m  julia> readdlm(\"delim_file.txt\", ',')\u001b[39m\n",
       "\u001b[36m  4×2 Matrix{Any}:\u001b[39m\n",
       "\u001b[36m   1  \"a\"\u001b[39m\n",
       "\u001b[36m   2  \"b\"\u001b[39m\n",
       "\u001b[36m   3  \"c\"\u001b[39m\n",
       "\u001b[36m   4  \"d\"\u001b[39m\n",
       "\u001b[36m  \u001b[39m\n",
       "\u001b[36m  julia> rm(\"delim_file.txt\")\u001b[39m\n",
       "\n",
       "  ────────────────────────────────────────────────────────────────────────────\n",
       "\n",
       "\u001b[36m  readdlm(source, delim::AbstractChar, eol::AbstractChar; options...)\u001b[39m\n",
       "\n",
       "  If all data is numeric, the result will be a numeric array. If some elements\n",
       "  cannot be parsed as numbers, a heterogeneous array of numbers and strings is\n",
       "  returned.\n",
       "\n",
       "  ────────────────────────────────────────────────────────────────────────────\n",
       "\n",
       "\u001b[36m  readdlm(source, delim::AbstractChar, T::Type, eol::AbstractChar; header=false, skipstart=0, skipblanks=true, use_mmap, quotes=true, dims, comments=false, comment_char='#')\u001b[39m\n",
       "\n",
       "  Read a matrix from the source where each line (separated by \u001b[36meol\u001b[39m) gives one\n",
       "  row, with elements separated by the given delimiter. The source can be a\n",
       "  text file, stream or byte array. Memory mapped files can be used by passing\n",
       "  the byte array representation of the mapped segment as source.\n",
       "\n",
       "  If \u001b[36mT\u001b[39m is a numeric type, the result is an array of that type, with any\n",
       "  non-numeric elements as \u001b[36mNaN\u001b[39m for floating-point types, or zero. Other useful\n",
       "  values of \u001b[36mT\u001b[39m include \u001b[36mString\u001b[39m, \u001b[36mAbstractString\u001b[39m, and \u001b[36mAny\u001b[39m.\n",
       "\n",
       "  If \u001b[36mheader\u001b[39m is \u001b[36mtrue\u001b[39m, the first row of data will be read as header and the\n",
       "  tuple \u001b[36m(data_cells, header_cells)\u001b[39m is returned instead of only \u001b[36mdata_cells\u001b[39m.\n",
       "\n",
       "  Specifying \u001b[36mskipstart\u001b[39m will ignore the corresponding number of initial lines\n",
       "  from the input.\n",
       "\n",
       "  If \u001b[36mskipblanks\u001b[39m is \u001b[36mtrue\u001b[39m, blank lines in the input will be ignored.\n",
       "\n",
       "  If \u001b[36muse_mmap\u001b[39m is \u001b[36mtrue\u001b[39m, the file specified by \u001b[36msource\u001b[39m is memory mapped for\n",
       "  potential speedups if the file is large. Default is \u001b[36mfalse\u001b[39m. On a Windows\n",
       "  filesystem, \u001b[36muse_mmap\u001b[39m should not be set to \u001b[36mtrue\u001b[39m unless the file is only read\n",
       "  once and is also not written to. Some edge cases exist where an OS is\n",
       "  Unix-like but the filesystem is Windows-like.\n",
       "\n",
       "  If \u001b[36mquotes\u001b[39m is \u001b[36mtrue\u001b[39m, columns enclosed within double-quote (\") characters are\n",
       "  allowed to contain new lines and column delimiters. Double-quote characters\n",
       "  within a quoted field must be escaped with another double-quote. Specifying\n",
       "  \u001b[36mdims\u001b[39m as a tuple of the expected rows and columns (including header, if any)\n",
       "  may speed up reading of large files. If \u001b[36mcomments\u001b[39m is \u001b[36mtrue\u001b[39m, lines beginning\n",
       "  with \u001b[36mcomment_char\u001b[39m and text following \u001b[36mcomment_char\u001b[39m in any line are ignored.\n",
       "\n",
       "\u001b[1m  Examples\u001b[22m\n",
       "\u001b[1m  ≡≡≡≡≡≡≡≡\u001b[22m\n",
       "\n",
       "\u001b[36m  julia> using DelimitedFiles\u001b[39m\n",
       "\u001b[36m  \u001b[39m\n",
       "\u001b[36m  julia> x = [1; 2; 3; 4];\u001b[39m\n",
       "\u001b[36m  \u001b[39m\n",
       "\u001b[36m  julia> y = [5; 6; 7; 8];\u001b[39m\n",
       "\u001b[36m  \u001b[39m\n",
       "\u001b[36m  julia> open(\"delim_file.txt\", \"w\") do io\u001b[39m\n",
       "\u001b[36m             writedlm(io, [x y])\u001b[39m\n",
       "\u001b[36m         end\u001b[39m\n",
       "\u001b[36m  \u001b[39m\n",
       "\u001b[36m  julia> readdlm(\"delim_file.txt\", '\\t', Int, '\\n')\u001b[39m\n",
       "\u001b[36m  4×2 Matrix{Int64}:\u001b[39m\n",
       "\u001b[36m   1  5\u001b[39m\n",
       "\u001b[36m   2  6\u001b[39m\n",
       "\u001b[36m   3  7\u001b[39m\n",
       "\u001b[36m   4  8\u001b[39m\n",
       "\u001b[36m  \u001b[39m\n",
       "\u001b[36m  julia> rm(\"delim_file.txt\")\u001b[39m"
      ]
     },
     "execution_count": 37,
     "metadata": {},
     "output_type": "execute_result"
    }
   ],
   "source": [
    "?readdlm"
   ]
  },
  {
   "cell_type": "code",
   "execution_count": 41,
   "id": "6469819d-d57f-457b-ad99-15bc118a0eda",
   "metadata": {},
   "outputs": [],
   "source": [
    "x = [2; 3; 2; 3];\n",
    "y = [\"a\"; \"b\"; \"a\"; \"b\"];\n",
    "\n",
    "open(\"test.txt\", \"w\") do io\n",
    "    for i in 1:length(x)\n",
    "        println(io, string(x[i], \" \", y[i]))\n",
    "    end\n",
    "end"
   ]
  },
  {
   "cell_type": "code",
   "execution_count": 42,
   "id": "e0e7f8ff-ef7e-4c92-87d2-0e45d8edcf84",
   "metadata": {},
   "outputs": [
    {
     "data": {
      "text/plain": [
       "4×2 Matrix{Any}:\n",
       " 2  \"a\"\n",
       " 3  \"b\"\n",
       " 2  \"a\"\n",
       " 3  \"b\""
      ]
     },
     "execution_count": 42,
     "metadata": {},
     "output_type": "execute_result"
    }
   ],
   "source": [
    "readdlm(\"test.txt\")"
   ]
  },
  {
   "cell_type": "code",
   "execution_count": 43,
   "id": "97a7a1f5-d6d2-479e-8ac0-058c3e9d4ab9",
   "metadata": {},
   "outputs": [
    {
     "name": "stdout",
     "output_type": "stream",
     "text": [
      "Hello, world!"
     ]
    }
   ],
   "source": [
    "print(\"Hello, \")\n",
    "print(\"world!\")"
   ]
  },
  {
   "cell_type": "code",
   "execution_count": 46,
   "id": "e42b4889-11dc-4d48-9c26-e83faa722eed",
   "metadata": {},
   "outputs": [
    {
     "name": "stdout",
     "output_type": "stream",
     "text": [
      "Hello, \n",
      "world!"
     ]
    }
   ],
   "source": [
    "println(\"Hello, \")\n",
    "print(\"world!\")"
   ]
  },
  {
   "cell_type": "code",
   "execution_count": 47,
   "id": "59b73e26-fd6c-4314-939b-83f244f62bb0",
   "metadata": {},
   "outputs": [
    {
     "name": "stdout",
     "output_type": "stream",
     "text": [
      "search: \u001b[0m\u001b[1ms\u001b[22m\u001b[0m\u001b[1mh\u001b[22m\u001b[0m\u001b[1mo\u001b[22m\u001b[0m\u001b[1mw\u001b[22m @\u001b[0m\u001b[1ms\u001b[22m\u001b[0m\u001b[1mh\u001b[22m\u001b[0m\u001b[1mo\u001b[22m\u001b[0m\u001b[1mw\u001b[22m chown throw C\u001b[0m\u001b[1ms\u001b[22m\u001b[0m\u001b[1mh\u001b[22m\u001b[0m\u001b[1mo\u001b[22mrt chop \u001b[0m\u001b[1ms\u001b[22m\u001b[0m\u001b[1mh\u001b[22m\u001b[0m\u001b[1mo\u001b[22m\u001b[0m\u001b[1mw\u001b[22mable i\u001b[0m\u001b[1ms\u001b[22mpow2\n",
      "\n"
     ]
    },
    {
     "data": {
      "text/latex": [
       "\\begin{verbatim}\n",
       "show([io::IO = stdout], x)\n",
       "\\end{verbatim}\n",
       "Write a text representation of a value \\texttt{x} to the output stream \\texttt{io}. New types \\texttt{T} should overload \\texttt{show(io::IO, x::T)}. The representation used by \\texttt{show} generally includes Julia-specific formatting and type information, and should be parseable Julia code when possible.\n",
       "\n",
       "\\href{@ref}{\\texttt{repr}} returns the output of \\texttt{show} as a string.\n",
       "\n",
       "For a more verbose human-readable text output for objects of type \\texttt{T}, define \\texttt{show(io::IO, ::MIME\"text/plain\", ::T)} in addition. Checking the \\texttt{:compact} \\href{@ref}{\\texttt{IOContext}} key (often checked as \\texttt{get(io, :compact, false)::Bool}) of \\texttt{io} in such methods is recommended, since some containers show their elements by calling this method with \\texttt{:compact => true}.\n",
       "\n",
       "See also \\href{@ref}{\\texttt{print}}, which writes un-decorated representations.\n",
       "\n",
       "\\section{Examples}\n",
       "\\begin{verbatim}\n",
       "julia> show(\"Hello World!\")\n",
       "\"Hello World!\"\n",
       "julia> print(\"Hello World!\")\n",
       "Hello World!\n",
       "\\end{verbatim}\n",
       "\\rule{\\textwidth}{1pt}\n",
       "\\begin{verbatim}\n",
       "show(io::IO, mime, x)\n",
       "\\end{verbatim}\n",
       "The \\href{@ref}{\\texttt{display}} functions ultimately call \\texttt{show} in order to write an object \\texttt{x} as a given \\texttt{mime} type to a given I/O stream \\texttt{io} (usually a memory buffer), if possible. In order to provide a rich multimedia representation of a user-defined type \\texttt{T}, it is only necessary to define a new \\texttt{show} method for \\texttt{T}, via: \\texttt{show(io, ::MIME\"mime\", x::T) = ...}, where \\texttt{mime} is a MIME-type string and the function body calls \\href{@ref}{\\texttt{write}} (or similar) to write that representation of \\texttt{x} to \\texttt{io}. (Note that the \\texttt{MIME\"\"} notation only supports literal strings; to construct \\texttt{MIME} types in a more flexible manner use \\texttt{MIME\\{Symbol(\"\")\\}}.)\n",
       "\n",
       "For example, if you define a \\texttt{MyImage} type and know how to write it to a PNG file, you could define a function \\texttt{show(io, ::MIME\"image/png\", x::MyImage) = ...} to allow your images to be displayed on any PNG-capable \\texttt{AbstractDisplay} (such as IJulia). As usual, be sure to \\texttt{import Base.show} in order to add new methods to the built-in Julia function \\texttt{show}.\n",
       "\n",
       "Technically, the \\texttt{MIME\"mime\"} macro defines a singleton type for the given \\texttt{mime} string, which allows us to exploit Julia's dispatch mechanisms in determining how to display objects of any given type.\n",
       "\n",
       "The default MIME type is \\texttt{MIME\"text/plain\"}. There is a fallback definition for \\texttt{text/plain} output that calls \\texttt{show} with 2 arguments, so it is not always necessary to add a method for that case. If a type benefits from custom human-readable output though, \\texttt{show(::IO, ::MIME\"text/plain\", ::T)} should be defined. For example, the \\texttt{Day} type uses \\texttt{1 day} as the output for the \\texttt{text/plain} MIME type, and \\texttt{Day(1)} as the output of 2-argument \\texttt{show}.\n",
       "\n",
       "\\section{Examples}\n",
       "\\begin{verbatim}\n",
       "julia> struct Day\n",
       "           n::Int\n",
       "       end\n",
       "\n",
       "julia> Base.show(io::IO, ::MIME\"text/plain\", d::Day) = print(io, d.n, \" day\")\n",
       "\n",
       "julia> Day(1)\n",
       "1 day\n",
       "\\end{verbatim}\n",
       "Container types generally implement 3-argument \\texttt{show} by calling \\texttt{show(io, MIME\"text/plain\"(), x)} for elements \\texttt{x}, with \\texttt{:compact => true} set in an \\href{@ref}{\\texttt{IOContext}} passed as the first argument.\n",
       "\n"
      ],
      "text/markdown": [
       "```\n",
       "show([io::IO = stdout], x)\n",
       "```\n",
       "\n",
       "Write a text representation of a value `x` to the output stream `io`. New types `T` should overload `show(io::IO, x::T)`. The representation used by `show` generally includes Julia-specific formatting and type information, and should be parseable Julia code when possible.\n",
       "\n",
       "[`repr`](@ref) returns the output of `show` as a string.\n",
       "\n",
       "For a more verbose human-readable text output for objects of type `T`, define `show(io::IO, ::MIME\"text/plain\", ::T)` in addition. Checking the `:compact` [`IOContext`](@ref) key (often checked as `get(io, :compact, false)::Bool`) of `io` in such methods is recommended, since some containers show their elements by calling this method with `:compact => true`.\n",
       "\n",
       "See also [`print`](@ref), which writes un-decorated representations.\n",
       "\n",
       "# Examples\n",
       "\n",
       "```jldoctest\n",
       "julia> show(\"Hello World!\")\n",
       "\"Hello World!\"\n",
       "julia> print(\"Hello World!\")\n",
       "Hello World!\n",
       "```\n",
       "\n",
       "---\n",
       "\n",
       "```\n",
       "show(io::IO, mime, x)\n",
       "```\n",
       "\n",
       "The [`display`](@ref) functions ultimately call `show` in order to write an object `x` as a given `mime` type to a given I/O stream `io` (usually a memory buffer), if possible. In order to provide a rich multimedia representation of a user-defined type `T`, it is only necessary to define a new `show` method for `T`, via: `show(io, ::MIME\"mime\", x::T) = ...`, where `mime` is a MIME-type string and the function body calls [`write`](@ref) (or similar) to write that representation of `x` to `io`. (Note that the `MIME\"\"` notation only supports literal strings; to construct `MIME` types in a more flexible manner use `MIME{Symbol(\"\")}`.)\n",
       "\n",
       "For example, if you define a `MyImage` type and know how to write it to a PNG file, you could define a function `show(io, ::MIME\"image/png\", x::MyImage) = ...` to allow your images to be displayed on any PNG-capable `AbstractDisplay` (such as IJulia). As usual, be sure to `import Base.show` in order to add new methods to the built-in Julia function `show`.\n",
       "\n",
       "Technically, the `MIME\"mime\"` macro defines a singleton type for the given `mime` string, which allows us to exploit Julia's dispatch mechanisms in determining how to display objects of any given type.\n",
       "\n",
       "The default MIME type is `MIME\"text/plain\"`. There is a fallback definition for `text/plain` output that calls `show` with 2 arguments, so it is not always necessary to add a method for that case. If a type benefits from custom human-readable output though, `show(::IO, ::MIME\"text/plain\", ::T)` should be defined. For example, the `Day` type uses `1 day` as the output for the `text/plain` MIME type, and `Day(1)` as the output of 2-argument `show`.\n",
       "\n",
       "# Examples\n",
       "\n",
       "```jldoctest\n",
       "julia> struct Day\n",
       "           n::Int\n",
       "       end\n",
       "\n",
       "julia> Base.show(io::IO, ::MIME\"text/plain\", d::Day) = print(io, d.n, \" day\")\n",
       "\n",
       "julia> Day(1)\n",
       "1 day\n",
       "```\n",
       "\n",
       "Container types generally implement 3-argument `show` by calling `show(io, MIME\"text/plain\"(), x)` for elements `x`, with `:compact => true` set in an [`IOContext`](@ref) passed as the first argument.\n"
      ],
      "text/plain": [
       "\u001b[36m  show([io::IO = stdout], x)\u001b[39m\n",
       "\n",
       "  Write a text representation of a value \u001b[36mx\u001b[39m to the output stream \u001b[36mio\u001b[39m. New types\n",
       "  \u001b[36mT\u001b[39m should overload \u001b[36mshow(io::IO, x::T)\u001b[39m. The representation used by \u001b[36mshow\u001b[39m\n",
       "  generally includes Julia-specific formatting and type information, and\n",
       "  should be parseable Julia code when possible.\n",
       "\n",
       "  \u001b[36mrepr\u001b[39m returns the output of \u001b[36mshow\u001b[39m as a string.\n",
       "\n",
       "  For a more verbose human-readable text output for objects of type \u001b[36mT\u001b[39m, define\n",
       "  \u001b[36mshow(io::IO, ::MIME\"text/plain\", ::T)\u001b[39m in addition. Checking the \u001b[36m:compact\u001b[39m\n",
       "  \u001b[36mIOContext\u001b[39m key (often checked as \u001b[36mget(io, :compact, false)::Bool\u001b[39m) of \u001b[36mio\u001b[39m in\n",
       "  such methods is recommended, since some containers show their elements by\n",
       "  calling this method with \u001b[36m:compact => true\u001b[39m.\n",
       "\n",
       "  See also \u001b[36mprint\u001b[39m, which writes un-decorated representations.\n",
       "\n",
       "\u001b[1m  Examples\u001b[22m\n",
       "\u001b[1m  ≡≡≡≡≡≡≡≡\u001b[22m\n",
       "\n",
       "\u001b[36m  julia> show(\"Hello World!\")\u001b[39m\n",
       "\u001b[36m  \"Hello World!\"\u001b[39m\n",
       "\u001b[36m  julia> print(\"Hello World!\")\u001b[39m\n",
       "\u001b[36m  Hello World!\u001b[39m\n",
       "\n",
       "  ────────────────────────────────────────────────────────────────────────────\n",
       "\n",
       "\u001b[36m  show(io::IO, mime, x)\u001b[39m\n",
       "\n",
       "  The \u001b[36mdisplay\u001b[39m functions ultimately call \u001b[36mshow\u001b[39m in order to write an object \u001b[36mx\u001b[39m as\n",
       "  a given \u001b[36mmime\u001b[39m type to a given I/O stream \u001b[36mio\u001b[39m (usually a memory buffer), if\n",
       "  possible. In order to provide a rich multimedia representation of a\n",
       "  user-defined type \u001b[36mT\u001b[39m, it is only necessary to define a new \u001b[36mshow\u001b[39m method for \u001b[36mT\u001b[39m,\n",
       "  via: \u001b[36mshow(io, ::MIME\"mime\", x::T) = ...\u001b[39m, where \u001b[36mmime\u001b[39m is a MIME-type string\n",
       "  and the function body calls \u001b[36mwrite\u001b[39m (or similar) to write that representation\n",
       "  of \u001b[36mx\u001b[39m to \u001b[36mio\u001b[39m. (Note that the \u001b[36mMIME\"\"\u001b[39m notation only supports literal strings; to\n",
       "  construct \u001b[36mMIME\u001b[39m types in a more flexible manner use \u001b[36mMIME{Symbol(\"\")}\u001b[39m.)\n",
       "\n",
       "  For example, if you define a \u001b[36mMyImage\u001b[39m type and know how to write it to a PNG\n",
       "  file, you could define a function \u001b[36mshow(io, ::MIME\"image/png\", x::MyImage) =\n",
       "  ...\u001b[39m to allow your images to be displayed on any PNG-capable \u001b[36mAbstractDisplay\u001b[39m\n",
       "  (such as IJulia). As usual, be sure to \u001b[36mimport Base.show\u001b[39m in order to add new\n",
       "  methods to the built-in Julia function \u001b[36mshow\u001b[39m.\n",
       "\n",
       "  Technically, the \u001b[36mMIME\"mime\"\u001b[39m macro defines a singleton type for the given\n",
       "  \u001b[36mmime\u001b[39m string, which allows us to exploit Julia's dispatch mechanisms in\n",
       "  determining how to display objects of any given type.\n",
       "\n",
       "  The default MIME type is \u001b[36mMIME\"text/plain\"\u001b[39m. There is a fallback definition\n",
       "  for \u001b[36mtext/plain\u001b[39m output that calls \u001b[36mshow\u001b[39m with 2 arguments, so it is not always\n",
       "  necessary to add a method for that case. If a type benefits from custom\n",
       "  human-readable output though, \u001b[36mshow(::IO, ::MIME\"text/plain\", ::T)\u001b[39m should be\n",
       "  defined. For example, the \u001b[36mDay\u001b[39m type uses \u001b[36m1 day\u001b[39m as the output for the\n",
       "  \u001b[36mtext/plain\u001b[39m MIME type, and \u001b[36mDay(1)\u001b[39m as the output of 2-argument \u001b[36mshow\u001b[39m.\n",
       "\n",
       "\u001b[1m  Examples\u001b[22m\n",
       "\u001b[1m  ≡≡≡≡≡≡≡≡\u001b[22m\n",
       "\n",
       "\u001b[36m  julia> struct Day\u001b[39m\n",
       "\u001b[36m             n::Int\u001b[39m\n",
       "\u001b[36m         end\u001b[39m\n",
       "\u001b[36m  \u001b[39m\n",
       "\u001b[36m  julia> Base.show(io::IO, ::MIME\"text/plain\", d::Day) = print(io, d.n, \" day\")\u001b[39m\n",
       "\u001b[36m  \u001b[39m\n",
       "\u001b[36m  julia> Day(1)\u001b[39m\n",
       "\u001b[36m  1 day\u001b[39m\n",
       "\n",
       "  Container types generally implement 3-argument \u001b[36mshow\u001b[39m by calling \u001b[36mshow(io,\n",
       "  MIME\"text/plain\"(), x)\u001b[39m for elements \u001b[36mx\u001b[39m, with \u001b[36m:compact => true\u001b[39m set in an\n",
       "  \u001b[36mIOContext\u001b[39m passed as the first argument."
      ]
     },
     "execution_count": 47,
     "metadata": {},
     "output_type": "execute_result"
    }
   ],
   "source": [
    "?show"
   ]
  },
  {
   "cell_type": "code",
   "execution_count": 48,
   "id": "28024989-3d98-4614-a8bd-14f01f14f1e1",
   "metadata": {},
   "outputs": [
    {
     "name": "stdout",
     "output_type": "stream",
     "text": [
      "[1, 2, 3]"
     ]
    }
   ],
   "source": [
    "show([1, 2, 3])"
   ]
  },
  {
   "cell_type": "code",
   "execution_count": 49,
   "id": "678592ae-b02a-4c80-a5f0-14e64dc10059",
   "metadata": {},
   "outputs": [
    {
     "name": "stdout",
     "output_type": "stream",
     "text": [
      "[1 2 3]"
     ]
    }
   ],
   "source": [
    "show([1 2 3 ])"
   ]
  },
  {
   "cell_type": "code",
   "execution_count": 50,
   "id": "a26e7cca-9a52-4f40-8a51-dfcc1b71ce1f",
   "metadata": {},
   "outputs": [
    {
     "name": "stdout",
     "output_type": "stream",
     "text": [
      "search: \u001b[0m\u001b[1mw\u001b[22m\u001b[0m\u001b[1mr\u001b[22m\u001b[0m\u001b[1mi\u001b[22m\u001b[0m\u001b[1mt\u001b[22m\u001b[0m\u001b[1me\u001b[22m \u001b[0m\u001b[1mw\u001b[22m\u001b[0m\u001b[1mr\u001b[22m\u001b[0m\u001b[1mi\u001b[22m\u001b[0m\u001b[1mt\u001b[22m\u001b[0m\u001b[1me\u001b[22mdlm \u001b[0m\u001b[1mw\u001b[22mait \u001b[0m\u001b[1mw\u001b[22mhile stride is\u001b[0m\u001b[1mw\u001b[22m\u001b[0m\u001b[1mr\u001b[22m\u001b[0m\u001b[1mi\u001b[22m\u001b[0m\u001b[1mt\u001b[22mabl\u001b[0m\u001b[1me\u001b[22m close\u001b[0m\u001b[1mw\u001b[22m\u001b[0m\u001b[1mr\u001b[22m\u001b[0m\u001b[1mi\u001b[22m\u001b[0m\u001b[1mt\u001b[22m\u001b[0m\u001b[1me\u001b[22m\n",
      "\n"
     ]
    },
    {
     "data": {
      "text/latex": [
       "\\begin{verbatim}\n",
       "write(io::IO, x)\n",
       "\\end{verbatim}\n",
       "Write the canonical binary representation of a value to the given I/O stream or file. Return the number of bytes written into the stream. See also \\href{@ref}{\\texttt{print}} to write a text representation (with an encoding that may depend upon \\texttt{io}).\n",
       "\n",
       "The endianness of the written value depends on the endianness of the host system. Convert to/from a fixed endianness when writing/reading (e.g. using  \\href{@ref}{\\texttt{htol}} and \\href{@ref}{\\texttt{ltoh}}) to get results that are consistent across platforms.\n",
       "\n",
       "You can write multiple values with the same \\texttt{write} call. i.e. the following are equivalent:\n",
       "\n",
       "\\begin{verbatim}\n",
       "write(io, x, y...)\n",
       "write(io, x) + write(io, y...)\n",
       "\\end{verbatim}\n",
       "\\section{Examples}\n",
       "Consistent serialization:\n",
       "\n",
       "\\begin{verbatim}\n",
       "julia> fname = tempname(); # random temporary filename\n",
       "\n",
       "julia> open(fname,\"w\") do f\n",
       "           # Make sure we write 64bit integer in little-endian byte order\n",
       "           write(f,htol(Int64(42)))\n",
       "       end\n",
       "8\n",
       "\n",
       "julia> open(fname,\"r\") do f\n",
       "           # Convert back to host byte order and host integer type\n",
       "           Int(ltoh(read(f,Int64)))\n",
       "       end\n",
       "42\n",
       "\\end{verbatim}\n",
       "Merging write calls:\n",
       "\n",
       "\\begin{verbatim}\n",
       "julia> io = IOBuffer();\n",
       "\n",
       "julia> write(io, \"JuliaLang is a GitHub organization.\", \" It has many members.\")\n",
       "56\n",
       "\n",
       "julia> String(take!(io))\n",
       "\"JuliaLang is a GitHub organization. It has many members.\"\n",
       "\n",
       "julia> write(io, \"Sometimes those members\") + write(io, \" write documentation.\")\n",
       "44\n",
       "\n",
       "julia> String(take!(io))\n",
       "\"Sometimes those members write documentation.\"\n",
       "\\end{verbatim}\n",
       "User-defined plain-data types without \\texttt{write} methods can be written when wrapped in a \\texttt{Ref}:\n",
       "\n",
       "\\begin{verbatim}\n",
       "julia> struct MyStruct; x::Float64; end\n",
       "\n",
       "julia> io = IOBuffer()\n",
       "IOBuffer(data=UInt8[...], readable=true, writable=true, seekable=true, append=false, size=0, maxsize=Inf, ptr=1, mark=-1)\n",
       "\n",
       "julia> write(io, Ref(MyStruct(42.0)))\n",
       "8\n",
       "\n",
       "julia> seekstart(io); read!(io, Ref(MyStruct(NaN)))\n",
       "Base.RefValue{MyStruct}(MyStruct(42.0))\n",
       "\\end{verbatim}\n",
       "\\rule{\\textwidth}{1pt}\n",
       "\\begin{verbatim}\n",
       "write(filename::AbstractString, content)\n",
       "\\end{verbatim}\n",
       "Write the canonical binary representation of \\texttt{content} to a file, which will be created if it does not exist yet or overwritten if it does exist.\n",
       "\n",
       "Return the number of bytes written into the file.\n",
       "\n"
      ],
      "text/markdown": [
       "```\n",
       "write(io::IO, x)\n",
       "```\n",
       "\n",
       "Write the canonical binary representation of a value to the given I/O stream or file. Return the number of bytes written into the stream. See also [`print`](@ref) to write a text representation (with an encoding that may depend upon `io`).\n",
       "\n",
       "The endianness of the written value depends on the endianness of the host system. Convert to/from a fixed endianness when writing/reading (e.g. using  [`htol`](@ref) and [`ltoh`](@ref)) to get results that are consistent across platforms.\n",
       "\n",
       "You can write multiple values with the same `write` call. i.e. the following are equivalent:\n",
       "\n",
       "```\n",
       "write(io, x, y...)\n",
       "write(io, x) + write(io, y...)\n",
       "```\n",
       "\n",
       "# Examples\n",
       "\n",
       "Consistent serialization:\n",
       "\n",
       "```jldoctest\n",
       "julia> fname = tempname(); # random temporary filename\n",
       "\n",
       "julia> open(fname,\"w\") do f\n",
       "           # Make sure we write 64bit integer in little-endian byte order\n",
       "           write(f,htol(Int64(42)))\n",
       "       end\n",
       "8\n",
       "\n",
       "julia> open(fname,\"r\") do f\n",
       "           # Convert back to host byte order and host integer type\n",
       "           Int(ltoh(read(f,Int64)))\n",
       "       end\n",
       "42\n",
       "```\n",
       "\n",
       "Merging write calls:\n",
       "\n",
       "```jldoctest\n",
       "julia> io = IOBuffer();\n",
       "\n",
       "julia> write(io, \"JuliaLang is a GitHub organization.\", \" It has many members.\")\n",
       "56\n",
       "\n",
       "julia> String(take!(io))\n",
       "\"JuliaLang is a GitHub organization. It has many members.\"\n",
       "\n",
       "julia> write(io, \"Sometimes those members\") + write(io, \" write documentation.\")\n",
       "44\n",
       "\n",
       "julia> String(take!(io))\n",
       "\"Sometimes those members write documentation.\"\n",
       "```\n",
       "\n",
       "User-defined plain-data types without `write` methods can be written when wrapped in a `Ref`:\n",
       "\n",
       "```jldoctest\n",
       "julia> struct MyStruct; x::Float64; end\n",
       "\n",
       "julia> io = IOBuffer()\n",
       "IOBuffer(data=UInt8[...], readable=true, writable=true, seekable=true, append=false, size=0, maxsize=Inf, ptr=1, mark=-1)\n",
       "\n",
       "julia> write(io, Ref(MyStruct(42.0)))\n",
       "8\n",
       "\n",
       "julia> seekstart(io); read!(io, Ref(MyStruct(NaN)))\n",
       "Base.RefValue{MyStruct}(MyStruct(42.0))\n",
       "```\n",
       "\n",
       "---\n",
       "\n",
       "```\n",
       "write(filename::AbstractString, content)\n",
       "```\n",
       "\n",
       "Write the canonical binary representation of `content` to a file, which will be created if it does not exist yet or overwritten if it does exist.\n",
       "\n",
       "Return the number of bytes written into the file.\n"
      ],
      "text/plain": [
       "\u001b[36m  write(io::IO, x)\u001b[39m\n",
       "\n",
       "  Write the canonical binary representation of a value to the given I/O stream\n",
       "  or file. Return the number of bytes written into the stream. See also \u001b[36mprint\u001b[39m\n",
       "  to write a text representation (with an encoding that may depend upon \u001b[36mio\u001b[39m).\n",
       "\n",
       "  The endianness of the written value depends on the endianness of the host\n",
       "  system. Convert to/from a fixed endianness when writing/reading (e.g. using\n",
       "  \u001b[36mhtol\u001b[39m and \u001b[36mltoh\u001b[39m) to get results that are consistent across platforms.\n",
       "\n",
       "  You can write multiple values with the same \u001b[36mwrite\u001b[39m call. i.e. the following\n",
       "  are equivalent:\n",
       "\n",
       "\u001b[36m  write(io, x, y...)\u001b[39m\n",
       "\u001b[36m  write(io, x) + write(io, y...)\u001b[39m\n",
       "\n",
       "\u001b[1m  Examples\u001b[22m\n",
       "\u001b[1m  ≡≡≡≡≡≡≡≡\u001b[22m\n",
       "\n",
       "  Consistent serialization:\n",
       "\n",
       "\u001b[36m  julia> fname = tempname(); # random temporary filename\u001b[39m\n",
       "\u001b[36m  \u001b[39m\n",
       "\u001b[36m  julia> open(fname,\"w\") do f\u001b[39m\n",
       "\u001b[36m             # Make sure we write 64bit integer in little-endian byte order\u001b[39m\n",
       "\u001b[36m             write(f,htol(Int64(42)))\u001b[39m\n",
       "\u001b[36m         end\u001b[39m\n",
       "\u001b[36m  8\u001b[39m\n",
       "\u001b[36m  \u001b[39m\n",
       "\u001b[36m  julia> open(fname,\"r\") do f\u001b[39m\n",
       "\u001b[36m             # Convert back to host byte order and host integer type\u001b[39m\n",
       "\u001b[36m             Int(ltoh(read(f,Int64)))\u001b[39m\n",
       "\u001b[36m         end\u001b[39m\n",
       "\u001b[36m  42\u001b[39m\n",
       "\n",
       "  Merging write calls:\n",
       "\n",
       "\u001b[36m  julia> io = IOBuffer();\u001b[39m\n",
       "\u001b[36m  \u001b[39m\n",
       "\u001b[36m  julia> write(io, \"JuliaLang is a GitHub organization.\", \" It has many members.\")\u001b[39m\n",
       "\u001b[36m  56\u001b[39m\n",
       "\u001b[36m  \u001b[39m\n",
       "\u001b[36m  julia> String(take!(io))\u001b[39m\n",
       "\u001b[36m  \"JuliaLang is a GitHub organization. It has many members.\"\u001b[39m\n",
       "\u001b[36m  \u001b[39m\n",
       "\u001b[36m  julia> write(io, \"Sometimes those members\") + write(io, \" write documentation.\")\u001b[39m\n",
       "\u001b[36m  44\u001b[39m\n",
       "\u001b[36m  \u001b[39m\n",
       "\u001b[36m  julia> String(take!(io))\u001b[39m\n",
       "\u001b[36m  \"Sometimes those members write documentation.\"\u001b[39m\n",
       "\n",
       "  User-defined plain-data types without \u001b[36mwrite\u001b[39m methods can be written when\n",
       "  wrapped in a \u001b[36mRef\u001b[39m:\n",
       "\n",
       "\u001b[36m  julia> struct MyStruct; x::Float64; end\u001b[39m\n",
       "\u001b[36m  \u001b[39m\n",
       "\u001b[36m  julia> io = IOBuffer()\u001b[39m\n",
       "\u001b[36m  IOBuffer(data=UInt8[...], readable=true, writable=true, seekable=true, append=false, size=0, maxsize=Inf, ptr=1, mark=-1)\u001b[39m\n",
       "\u001b[36m  \u001b[39m\n",
       "\u001b[36m  julia> write(io, Ref(MyStruct(42.0)))\u001b[39m\n",
       "\u001b[36m  8\u001b[39m\n",
       "\u001b[36m  \u001b[39m\n",
       "\u001b[36m  julia> seekstart(io); read!(io, Ref(MyStruct(NaN)))\u001b[39m\n",
       "\u001b[36m  Base.RefValue{MyStruct}(MyStruct(42.0))\u001b[39m\n",
       "\n",
       "  ────────────────────────────────────────────────────────────────────────────\n",
       "\n",
       "\u001b[36m  write(filename::AbstractString, content)\u001b[39m\n",
       "\n",
       "  Write the canonical binary representation of \u001b[36mcontent\u001b[39m to a file, which will\n",
       "  be created if it does not exist yet or overwritten if it does exist.\n",
       "\n",
       "  Return the number of bytes written into the file."
      ]
     },
     "execution_count": 50,
     "metadata": {},
     "output_type": "execute_result"
    }
   ],
   "source": [
    "?write"
   ]
  },
  {
   "cell_type": "code",
   "execution_count": 51,
   "id": "65fff711-f06f-4840-90da-4e5698e02f42",
   "metadata": {},
   "outputs": [
    {
     "data": {
      "text/plain": [
       "13"
      ]
     },
     "execution_count": 51,
     "metadata": {},
     "output_type": "execute_result"
    }
   ],
   "source": [
    "io = IOBuffer()\n",
    "write(io, \"Hello, \", \"world!\")"
   ]
  },
  {
   "cell_type": "code",
   "execution_count": 52,
   "id": "499933fd-02b8-4514-8558-c9d7d1cdd602",
   "metadata": {},
   "outputs": [
    {
     "data": {
      "text/plain": [
       "56"
      ]
     },
     "execution_count": 52,
     "metadata": {},
     "output_type": "execute_result"
    }
   ],
   "source": [
    "open(\"output.txt\", \"w\") do f\n",
    "    write(f, \"Это строка без перевода строки\")\n",
    "end"
   ]
  },
  {
   "cell_type": "code",
   "execution_count": 53,
   "id": "24c34384-d35a-4886-a1c0-ac7e0e26012f",
   "metadata": {},
   "outputs": [
    {
     "name": "stdout",
     "output_type": "stream",
     "text": [
      "search: \u001b[0m\u001b[1mp\u001b[22m\u001b[0m\u001b[1ma\u001b[22m\u001b[0m\u001b[1mr\u001b[22m\u001b[0m\u001b[1ms\u001b[22m\u001b[0m\u001b[1me\u001b[22m try\u001b[0m\u001b[1mp\u001b[22m\u001b[0m\u001b[1ma\u001b[22m\u001b[0m\u001b[1mr\u001b[22m\u001b[0m\u001b[1ms\u001b[22m\u001b[0m\u001b[1me\u001b[22m Base \u001b[0m\u001b[1mp\u001b[22m\u001b[0m\u001b[1ma\u001b[22mi\u001b[0m\u001b[1mr\u001b[22m\u001b[0m\u001b[1ms\u001b[22m falses \u001b[0m\u001b[1mp\u001b[22m\u001b[0m\u001b[1ma\u001b[22m\u001b[0m\u001b[1mr\u001b[22ment\n",
      "\n"
     ]
    },
    {
     "data": {
      "text/latex": [
       "\\begin{verbatim}\n",
       "parse(type, str; base)\n",
       "\\end{verbatim}\n",
       "Parse a string as a number. For \\texttt{Integer} types, a base can be specified (the default is 10). For floating-point types, the string is parsed as a decimal floating-point number.  \\texttt{Complex} types are parsed from decimal strings of the form \\texttt{\"R±Iim\"} as a \\texttt{Complex(R,I)} of the requested type; \\texttt{\"i\"} or \\texttt{\"j\"} can also be used instead of \\texttt{\"im\"}, and \\texttt{\"R\"} or \\texttt{\"Iim\"} are also permitted. If the string does not contain a valid number, an error is raised.\n",
       "\n",
       "\\begin{quote}\n",
       "\\textbf{compat}\n",
       "\n",
       "Julia 1.1\n",
       "\n",
       "\\texttt{parse(Bool, str)} requires at least Julia 1.1.\n",
       "\n",
       "\\end{quote}\n",
       "\\section{Examples}\n",
       "\\begin{verbatim}\n",
       "julia> parse(Int, \"1234\")\n",
       "1234\n",
       "\n",
       "julia> parse(Int, \"1234\", base = 5)\n",
       "194\n",
       "\n",
       "julia> parse(Int, \"afc\", base = 16)\n",
       "2812\n",
       "\n",
       "julia> parse(Float64, \"1.2e-3\")\n",
       "0.0012\n",
       "\n",
       "julia> parse(Complex{Float64}, \"3.2e-1 + 4.5im\")\n",
       "0.32 + 4.5im\n",
       "\\end{verbatim}\n",
       "\\rule{\\textwidth}{1pt}\n",
       "\\begin{verbatim}\n",
       "parse(::Type{Platform}, triplet::AbstractString)\n",
       "\\end{verbatim}\n",
       "Parses a string platform triplet back into a \\texttt{Platform} object.\n",
       "\n",
       "\\rule{\\textwidth}{1pt}\n",
       "\\begin{verbatim}\n",
       "parse(::Type{SimpleColor}, rgb::String)\n",
       "\\end{verbatim}\n",
       "An analogue of \\texttt{tryparse(SimpleColor, rgb::String)} (which see), that raises an error instead of returning \\texttt{nothing}.\n",
       "\n"
      ],
      "text/markdown": [
       "```\n",
       "parse(type, str; base)\n",
       "```\n",
       "\n",
       "Parse a string as a number. For `Integer` types, a base can be specified (the default is 10). For floating-point types, the string is parsed as a decimal floating-point number.  `Complex` types are parsed from decimal strings of the form `\"R±Iim\"` as a `Complex(R,I)` of the requested type; `\"i\"` or `\"j\"` can also be used instead of `\"im\"`, and `\"R\"` or `\"Iim\"` are also permitted. If the string does not contain a valid number, an error is raised.\n",
       "\n",
       "!!! compat \"Julia 1.1\"\n",
       "    `parse(Bool, str)` requires at least Julia 1.1.\n",
       "\n",
       "\n",
       "# Examples\n",
       "\n",
       "```jldoctest\n",
       "julia> parse(Int, \"1234\")\n",
       "1234\n",
       "\n",
       "julia> parse(Int, \"1234\", base = 5)\n",
       "194\n",
       "\n",
       "julia> parse(Int, \"afc\", base = 16)\n",
       "2812\n",
       "\n",
       "julia> parse(Float64, \"1.2e-3\")\n",
       "0.0012\n",
       "\n",
       "julia> parse(Complex{Float64}, \"3.2e-1 + 4.5im\")\n",
       "0.32 + 4.5im\n",
       "```\n",
       "\n",
       "---\n",
       "\n",
       "```\n",
       "parse(::Type{Platform}, triplet::AbstractString)\n",
       "```\n",
       "\n",
       "Parses a string platform triplet back into a `Platform` object.\n",
       "\n",
       "---\n",
       "\n",
       "```\n",
       "parse(::Type{SimpleColor}, rgb::String)\n",
       "```\n",
       "\n",
       "An analogue of `tryparse(SimpleColor, rgb::String)` (which see), that raises an error instead of returning `nothing`.\n"
      ],
      "text/plain": [
       "\u001b[36m  parse(type, str; base)\u001b[39m\n",
       "\n",
       "  Parse a string as a number. For \u001b[36mInteger\u001b[39m types, a base can be specified (the\n",
       "  default is 10). For floating-point types, the string is parsed as a decimal\n",
       "  floating-point number. \u001b[36mComplex\u001b[39m types are parsed from decimal strings of the\n",
       "  form \u001b[36m\"R±Iim\"\u001b[39m as a \u001b[36mComplex(R,I)\u001b[39m of the requested type; \u001b[36m\"i\"\u001b[39m or \u001b[36m\"j\"\u001b[39m can also be\n",
       "  used instead of \u001b[36m\"im\"\u001b[39m, and \u001b[36m\"R\"\u001b[39m or \u001b[36m\"Iim\"\u001b[39m are also permitted. If the string\n",
       "  does not contain a valid number, an error is raised.\n",
       "\n",
       "\u001b[39m\u001b[1m  │ \u001b[22m\u001b[39m\u001b[1mJulia 1.1\u001b[22m\n",
       "\u001b[39m\u001b[1m  │\u001b[22m\n",
       "\u001b[39m\u001b[1m  │\u001b[22m  \u001b[36mparse(Bool, str)\u001b[39m requires at least Julia 1.1.\n",
       "\n",
       "\u001b[1m  Examples\u001b[22m\n",
       "\u001b[1m  ≡≡≡≡≡≡≡≡\u001b[22m\n",
       "\n",
       "\u001b[36m  julia> parse(Int, \"1234\")\u001b[39m\n",
       "\u001b[36m  1234\u001b[39m\n",
       "\u001b[36m  \u001b[39m\n",
       "\u001b[36m  julia> parse(Int, \"1234\", base = 5)\u001b[39m\n",
       "\u001b[36m  194\u001b[39m\n",
       "\u001b[36m  \u001b[39m\n",
       "\u001b[36m  julia> parse(Int, \"afc\", base = 16)\u001b[39m\n",
       "\u001b[36m  2812\u001b[39m\n",
       "\u001b[36m  \u001b[39m\n",
       "\u001b[36m  julia> parse(Float64, \"1.2e-3\")\u001b[39m\n",
       "\u001b[36m  0.0012\u001b[39m\n",
       "\u001b[36m  \u001b[39m\n",
       "\u001b[36m  julia> parse(Complex{Float64}, \"3.2e-1 + 4.5im\")\u001b[39m\n",
       "\u001b[36m  0.32 + 4.5im\u001b[39m\n",
       "\n",
       "  ────────────────────────────────────────────────────────────────────────────\n",
       "\n",
       "\u001b[36m  parse(::Type{Platform}, triplet::AbstractString)\u001b[39m\n",
       "\n",
       "  Parses a string platform triplet back into a \u001b[36mPlatform\u001b[39m object.\n",
       "\n",
       "  ────────────────────────────────────────────────────────────────────────────\n",
       "\n",
       "\u001b[36m  parse(::Type{SimpleColor}, rgb::String)\u001b[39m\n",
       "\n",
       "  An analogue of \u001b[36mtryparse(SimpleColor, rgb::String)\u001b[39m (which see), that raises\n",
       "  an error instead of returning \u001b[36mnothing\u001b[39m."
      ]
     },
     "execution_count": 53,
     "metadata": {},
     "output_type": "execute_result"
    }
   ],
   "source": [
    "?parse"
   ]
  },
  {
   "cell_type": "code",
   "execution_count": 59,
   "id": "ab8c34b8-08a0-4712-ae43-342d18bb9df8",
   "metadata": {},
   "outputs": [
    {
     "data": {
      "text/plain": [
       "Int64"
      ]
     },
     "execution_count": 59,
     "metadata": {},
     "output_type": "execute_result"
    }
   ],
   "source": [
    "a = \"786\"\n",
    "# typeof(a)\n",
    "b = parse(Int, a)\n",
    "typeof(b)"
   ]
  },
  {
   "cell_type": "code",
   "execution_count": 61,
   "id": "8db5d4bc-9305-4856-87fa-f770efff3590",
   "metadata": {},
   "outputs": [
    {
     "data": {
      "text/plain": [
       "3.1415"
      ]
     },
     "execution_count": 61,
     "metadata": {},
     "output_type": "execute_result"
    }
   ],
   "source": [
    "parse(Float64, \"3.1415\")"
   ]
  },
  {
   "cell_type": "code",
   "execution_count": 64,
   "id": "fc512e7c-cb2e-4113-a331-6f04b9acbae0",
   "metadata": {},
   "outputs": [
    {
     "data": {
      "text/plain": [
       "true"
      ]
     },
     "execution_count": 64,
     "metadata": {},
     "output_type": "execute_result"
    }
   ],
   "source": [
    "parse(Bool, \"true\")"
   ]
  },
  {
   "cell_type": "code",
   "execution_count": 65,
   "id": "991c202d-26ea-465f-84d2-0899efed4e4c",
   "metadata": {},
   "outputs": [
    {
     "ename": "LoadError",
     "evalue": "ArgumentError: invalid base 10 digit 'a' in \"abc\"",
     "output_type": "error",
     "traceback": [
      "ArgumentError: invalid base 10 digit 'a' in \"abc\"",
      "",
      "Stacktrace:",
      " [1] tryparse_internal(::Type{Int64}, s::String, startpos::Int64, endpos::Int64, base_::Int64, raise::Bool)",
      "   @ Base .\\parse.jl:143",
      " [2] #parse#619",
      "   @ .\\parse.jl:254 [inlined]",
      " [3] parse(::Type{Int64}, s::String)",
      "   @ Base .\\parse.jl:253",
      " [4] top-level scope",
      "   @ In[65]:1"
     ]
    }
   ],
   "source": [
    "parse(Int, \"abc\")"
   ]
  },
  {
   "cell_type": "code",
   "execution_count": 66,
   "id": "930b3701-2a1a-4e45-b256-96706eeda43c",
   "metadata": {},
   "outputs": [
    {
     "data": {
      "text/plain": [
       "11"
      ]
     },
     "execution_count": 66,
     "metadata": {},
     "output_type": "execute_result"
    }
   ],
   "source": [
    "parse(Int, \"1011\"; base=2)"
   ]
  },
  {
   "cell_type": "code",
   "execution_count": 67,
   "id": "ae0118e3-ac0d-4e3e-b747-bc69402d15b8",
   "metadata": {},
   "outputs": [
    {
     "data": {
      "text/plain": [
       "31"
      ]
     },
     "execution_count": 67,
     "metadata": {},
     "output_type": "execute_result"
    }
   ],
   "source": [
    "parse(Int, \"1F\"; base=16)"
   ]
  },
  {
   "cell_type": "code",
   "execution_count": 68,
   "id": "accb2a8e-3409-471b-aaa5-db904f1223b2",
   "metadata": {},
   "outputs": [
    {
     "data": {
      "text/plain": [
       "\"Hello\""
      ]
     },
     "execution_count": 68,
     "metadata": {},
     "output_type": "execute_result"
    }
   ],
   "source": [
    "a = 10 # Int\n",
    "b = 3.5 # Float64\n",
    "c = 2 + 3im # Complex\n",
    "d = true # Bool\n",
    "e = \"Hello\" # String"
   ]
  },
  {
   "cell_type": "code",
   "execution_count": 69,
   "id": "540e960d-0bb1-490f-af5b-de4ccf2c45b4",
   "metadata": {},
   "outputs": [
    {
     "data": {
      "text/plain": [
       "15"
      ]
     },
     "execution_count": 69,
     "metadata": {},
     "output_type": "execute_result"
    }
   ],
   "source": [
    "#сложение\n",
    "\n",
    "sum_int = a + 5"
   ]
  },
  {
   "cell_type": "code",
   "execution_count": 70,
   "id": "27b56bfc-c75e-4723-9e57-7747d8e72040",
   "metadata": {},
   "outputs": [
    {
     "data": {
      "text/plain": [
       "13.5"
      ]
     },
     "execution_count": 70,
     "metadata": {},
     "output_type": "execute_result"
    }
   ],
   "source": [
    "a+b"
   ]
  },
  {
   "cell_type": "code",
   "execution_count": 71,
   "id": "4ebac9c5-6bd3-4879-9cca-dcaf4d10ff55",
   "metadata": {},
   "outputs": [
    {
     "data": {
      "text/plain": [
       "5.5 + 3.0im"
      ]
     },
     "execution_count": 71,
     "metadata": {},
     "output_type": "execute_result"
    }
   ],
   "source": [
    "b+c"
   ]
  },
  {
   "cell_type": "code",
   "execution_count": 72,
   "id": "c4a2c379-8609-4c21-aa9c-6e90cf9f85a5",
   "metadata": {},
   "outputs": [
    {
     "ename": "LoadError",
     "evalue": "MethodError: no method matching +(::Int64, ::String)\nThe function `+` exists, but no method is defined for this combination of argument types.\n\n\u001b[0mClosest candidates are:\n\u001b[0m  +(::Any, ::Any, \u001b[91m::Any\u001b[39m, \u001b[91m::Any...\u001b[39m)\n\u001b[0m\u001b[90m   @\u001b[39m \u001b[90mBase\u001b[39m \u001b[90m\u001b[4moperators.jl:596\u001b[24m\u001b[39m\n\u001b[0m  +(::Real, \u001b[91m::Complex{Bool}\u001b[39m)\n\u001b[0m\u001b[90m   @\u001b[39m \u001b[90mBase\u001b[39m \u001b[90m\u001b[4mcomplex.jl:322\u001b[24m\u001b[39m\n\u001b[0m  +(::Integer, \u001b[91m::AbstractChar\u001b[39m)\n\u001b[0m\u001b[90m   @\u001b[39m \u001b[90mBase\u001b[39m \u001b[90m\u001b[4mchar.jl:247\u001b[24m\u001b[39m\n\u001b[0m  ...\n",
     "output_type": "error",
     "traceback": [
      "MethodError: no method matching +(::Int64, ::String)\nThe function `+` exists, but no method is defined for this combination of argument types.\n\n\u001b[0mClosest candidates are:\n\u001b[0m  +(::Any, ::Any, \u001b[91m::Any\u001b[39m, \u001b[91m::Any...\u001b[39m)\n\u001b[0m\u001b[90m   @\u001b[39m \u001b[90mBase\u001b[39m \u001b[90m\u001b[4moperators.jl:596\u001b[24m\u001b[39m\n\u001b[0m  +(::Real, \u001b[91m::Complex{Bool}\u001b[39m)\n\u001b[0m\u001b[90m   @\u001b[39m \u001b[90mBase\u001b[39m \u001b[90m\u001b[4mcomplex.jl:322\u001b[24m\u001b[39m\n\u001b[0m  +(::Integer, \u001b[91m::AbstractChar\u001b[39m)\n\u001b[0m\u001b[90m   @\u001b[39m \u001b[90mBase\u001b[39m \u001b[90m\u001b[4mchar.jl:247\u001b[24m\u001b[39m\n\u001b[0m  ...\n",
      "",
      "Stacktrace:",
      " [1] top-level scope",
      "   @ In[72]:1"
     ]
    }
   ],
   "source": [
    "a+e"
   ]
  },
  {
   "cell_type": "code",
   "execution_count": 73,
   "id": "c29ed9c4-3ede-4e92-bcbd-4e0f96e4cd97",
   "metadata": {},
   "outputs": [
    {
     "ename": "LoadError",
     "evalue": "MethodError: no method matching +(::String, ::String)\nThe function `+` exists, but no method is defined for this combination of argument types.\nString concatenation is performed with \u001b[36m*\u001b[39m (See also: https://docs.julialang.org/en/v1/manual/strings/#man-concatenation).\n\n\u001b[0mClosest candidates are:\n\u001b[0m  +(::Any, ::Any, \u001b[91m::Any\u001b[39m, \u001b[91m::Any...\u001b[39m)\n\u001b[0m\u001b[90m   @\u001b[39m \u001b[90mBase\u001b[39m \u001b[90m\u001b[4moperators.jl:596\u001b[24m\u001b[39m\n\u001b[0m  +(\u001b[91m::Bool\u001b[39m, \u001b[91m::Complex{Bool}\u001b[39m)\n\u001b[0m\u001b[90m   @\u001b[39m \u001b[90mBase\u001b[39m \u001b[90m\u001b[4mcomplex.jl:308\u001b[24m\u001b[39m\n\u001b[0m  +(\u001b[91m::Bool\u001b[39m, \u001b[91m::Bool\u001b[39m)\n\u001b[0m\u001b[90m   @\u001b[39m \u001b[90mBase\u001b[39m \u001b[90m\u001b[4mbool.jl:166\u001b[24m\u001b[39m\n\u001b[0m  ...\n",
     "output_type": "error",
     "traceback": [
      "MethodError: no method matching +(::String, ::String)\nThe function `+` exists, but no method is defined for this combination of argument types.\nString concatenation is performed with \u001b[36m*\u001b[39m (See also: https://docs.julialang.org/en/v1/manual/strings/#man-concatenation).\n\n\u001b[0mClosest candidates are:\n\u001b[0m  +(::Any, ::Any, \u001b[91m::Any\u001b[39m, \u001b[91m::Any...\u001b[39m)\n\u001b[0m\u001b[90m   @\u001b[39m \u001b[90mBase\u001b[39m \u001b[90m\u001b[4moperators.jl:596\u001b[24m\u001b[39m\n\u001b[0m  +(\u001b[91m::Bool\u001b[39m, \u001b[91m::Complex{Bool}\u001b[39m)\n\u001b[0m\u001b[90m   @\u001b[39m \u001b[90mBase\u001b[39m \u001b[90m\u001b[4mcomplex.jl:308\u001b[24m\u001b[39m\n\u001b[0m  +(\u001b[91m::Bool\u001b[39m, \u001b[91m::Bool\u001b[39m)\n\u001b[0m\u001b[90m   @\u001b[39m \u001b[90mBase\u001b[39m \u001b[90m\u001b[4mbool.jl:166\u001b[24m\u001b[39m\n\u001b[0m  ...\n",
      "",
      "Stacktrace:",
      " [1] top-level scope",
      "   @ In[73]:1"
     ]
    }
   ],
   "source": [
    "e+e"
   ]
  },
  {
   "cell_type": "code",
   "execution_count": 74,
   "id": "d0062fd0-2310-4618-97af-8e5665c3bfe8",
   "metadata": {},
   "outputs": [
    {
     "data": {
      "text/plain": [
       "2"
      ]
     },
     "execution_count": 74,
     "metadata": {},
     "output_type": "execute_result"
    }
   ],
   "source": [
    "d+d"
   ]
  },
  {
   "cell_type": "code",
   "execution_count": 75,
   "id": "447dccb7-8761-4509-a4fc-6c18c82c8ebe",
   "metadata": {},
   "outputs": [
    {
     "data": {
      "text/plain": [
       "1"
      ]
     },
     "execution_count": 75,
     "metadata": {},
     "output_type": "execute_result"
    }
   ],
   "source": [
    "true + false"
   ]
  },
  {
   "cell_type": "code",
   "execution_count": 76,
   "id": "ca43d1f9-d3ee-4a6a-a8d9-b72429c2d9d3",
   "metadata": {},
   "outputs": [
    {
     "data": {
      "text/plain": [
       "0"
      ]
     },
     "execution_count": 76,
     "metadata": {},
     "output_type": "execute_result"
    }
   ],
   "source": [
    "false+false"
   ]
  },
  {
   "cell_type": "code",
   "execution_count": 77,
   "id": "cb923d40-1c4f-4b21-8d75-9f3c2711c968",
   "metadata": {},
   "outputs": [
    {
     "data": {
      "text/plain": [
       "3 + 3im"
      ]
     },
     "execution_count": 77,
     "metadata": {},
     "output_type": "execute_result"
    }
   ],
   "source": [
    "c+d"
   ]
  },
  {
   "cell_type": "code",
   "execution_count": 78,
   "id": "57a2312c-eaa9-44a0-82f3-6530c4d4e3a7",
   "metadata": {},
   "outputs": [
    {
     "data": {
      "text/plain": [
       "6"
      ]
     },
     "execution_count": 78,
     "metadata": {},
     "output_type": "execute_result"
    }
   ],
   "source": [
    "# вычитание\n",
    "\n",
    "a - 4"
   ]
  },
  {
   "cell_type": "code",
   "execution_count": 79,
   "id": "a4e818ec-c083-4751-960b-4d7f19a8e784",
   "metadata": {},
   "outputs": [
    {
     "data": {
      "text/plain": [
       "-6.5"
      ]
     },
     "execution_count": 79,
     "metadata": {},
     "output_type": "execute_result"
    }
   ],
   "source": [
    "b - a"
   ]
  },
  {
   "cell_type": "code",
   "execution_count": 80,
   "id": "a9186f0a-ddc3-4f61-9e60-51615ef25eab",
   "metadata": {},
   "outputs": [
    {
     "data": {
      "text/plain": [
       "1 + 3im"
      ]
     },
     "execution_count": 80,
     "metadata": {},
     "output_type": "execute_result"
    }
   ],
   "source": [
    "c - d"
   ]
  },
  {
   "cell_type": "code",
   "execution_count": 81,
   "id": "cea1ebbc-7825-4535-b5e6-b02470fb3c5e",
   "metadata": {},
   "outputs": [
    {
     "data": {
      "text/plain": [
       "-1.5 + 3.0im"
      ]
     },
     "execution_count": 81,
     "metadata": {},
     "output_type": "execute_result"
    }
   ],
   "source": [
    "c - b"
   ]
  },
  {
   "cell_type": "code",
   "execution_count": 82,
   "id": "1944c5ea-61e7-43f5-934b-7aab74d26b5b",
   "metadata": {},
   "outputs": [
    {
     "data": {
      "text/plain": [
       "100"
      ]
     },
     "execution_count": 82,
     "metadata": {},
     "output_type": "execute_result"
    }
   ],
   "source": [
    "# умножение\n",
    "\n",
    "a*a"
   ]
  },
  {
   "cell_type": "code",
   "execution_count": 83,
   "id": "2bfdce1c-b243-4d70-8454-9db122c0aff9",
   "metadata": {},
   "outputs": [
    {
     "data": {
      "text/plain": [
       "35.0"
      ]
     },
     "execution_count": 83,
     "metadata": {},
     "output_type": "execute_result"
    }
   ],
   "source": [
    "a*b"
   ]
  },
  {
   "cell_type": "code",
   "execution_count": 84,
   "id": "caa775a9-69ab-43e1-b60c-ee1aa1478aaf",
   "metadata": {},
   "outputs": [
    {
     "data": {
      "text/plain": [
       "12.25"
      ]
     },
     "execution_count": 84,
     "metadata": {},
     "output_type": "execute_result"
    }
   ],
   "source": [
    "b*b"
   ]
  },
  {
   "cell_type": "code",
   "execution_count": 85,
   "id": "4cb508ac-2c58-4cdb-8499-a884f681b4d1",
   "metadata": {},
   "outputs": [
    {
     "data": {
      "text/plain": [
       "7.0 + 10.5im"
      ]
     },
     "execution_count": 85,
     "metadata": {},
     "output_type": "execute_result"
    }
   ],
   "source": [
    "b*c"
   ]
  },
  {
   "cell_type": "code",
   "execution_count": 86,
   "id": "6e5c6b8e-872d-4ec5-af36-df2b25690571",
   "metadata": {},
   "outputs": [
    {
     "data": {
      "text/plain": [
       "-5 + 12im"
      ]
     },
     "execution_count": 86,
     "metadata": {},
     "output_type": "execute_result"
    }
   ],
   "source": [
    "c*c"
   ]
  },
  {
   "cell_type": "code",
   "execution_count": 87,
   "id": "054d155b-d99f-4d08-ab90-571d9e46581c",
   "metadata": {},
   "outputs": [
    {
     "data": {
      "text/plain": [
       "2 + 3im"
      ]
     },
     "execution_count": 87,
     "metadata": {},
     "output_type": "execute_result"
    }
   ],
   "source": [
    "c*d"
   ]
  },
  {
   "cell_type": "code",
   "execution_count": 88,
   "id": "89baf897-7abc-4e83-ad97-0eb61792131d",
   "metadata": {},
   "outputs": [
    {
     "data": {
      "text/plain": [
       "0 + 0im"
      ]
     },
     "execution_count": 88,
     "metadata": {},
     "output_type": "execute_result"
    }
   ],
   "source": [
    "c*false"
   ]
  },
  {
   "cell_type": "code",
   "execution_count": 89,
   "id": "0abfc0b8-d9f2-4d7d-9ec4-e320e97cfcc8",
   "metadata": {},
   "outputs": [
    {
     "ename": "LoadError",
     "evalue": "MethodError: no method matching *(::Int64, ::String)\nThe function `*` exists, but no method is defined for this combination of argument types.\n\n\u001b[0mClosest candidates are:\n\u001b[0m  *(::Any, ::Any, \u001b[91m::Any\u001b[39m, \u001b[91m::Any...\u001b[39m)\n\u001b[0m\u001b[90m   @\u001b[39m \u001b[90mBase\u001b[39m \u001b[90m\u001b[4moperators.jl:596\u001b[24m\u001b[39m\n\u001b[0m  *(::Real, \u001b[91m::Complex{Bool}\u001b[39m)\n\u001b[0m\u001b[90m   @\u001b[39m \u001b[90mBase\u001b[39m \u001b[90m\u001b[4mcomplex.jl:330\u001b[24m\u001b[39m\n\u001b[0m  *(\u001b[91m::Missing\u001b[39m, ::Union{AbstractChar, AbstractString})\n\u001b[0m\u001b[90m   @\u001b[39m \u001b[90mBase\u001b[39m \u001b[90m\u001b[4mmissing.jl:174\u001b[24m\u001b[39m\n\u001b[0m  ...\n",
     "output_type": "error",
     "traceback": [
      "MethodError: no method matching *(::Int64, ::String)\nThe function `*` exists, but no method is defined for this combination of argument types.\n\n\u001b[0mClosest candidates are:\n\u001b[0m  *(::Any, ::Any, \u001b[91m::Any\u001b[39m, \u001b[91m::Any...\u001b[39m)\n\u001b[0m\u001b[90m   @\u001b[39m \u001b[90mBase\u001b[39m \u001b[90m\u001b[4moperators.jl:596\u001b[24m\u001b[39m\n\u001b[0m  *(::Real, \u001b[91m::Complex{Bool}\u001b[39m)\n\u001b[0m\u001b[90m   @\u001b[39m \u001b[90mBase\u001b[39m \u001b[90m\u001b[4mcomplex.jl:330\u001b[24m\u001b[39m\n\u001b[0m  *(\u001b[91m::Missing\u001b[39m, ::Union{AbstractChar, AbstractString})\n\u001b[0m\u001b[90m   @\u001b[39m \u001b[90mBase\u001b[39m \u001b[90m\u001b[4mmissing.jl:174\u001b[24m\u001b[39m\n\u001b[0m  ...\n",
      "",
      "Stacktrace:",
      " [1] top-level scope",
      "   @ In[89]:1"
     ]
    }
   ],
   "source": [
    "2*e"
   ]
  },
  {
   "cell_type": "code",
   "execution_count": 90,
   "id": "d64346d1-6f3e-483c-a139-ba2a1fa6d0c1",
   "metadata": {},
   "outputs": [
    {
     "data": {
      "text/plain": [
       "2.5"
      ]
     },
     "execution_count": 90,
     "metadata": {},
     "output_type": "execute_result"
    }
   ],
   "source": [
    "# деление\n",
    "\n",
    "a/4"
   ]
  },
  {
   "cell_type": "code",
   "execution_count": 91,
   "id": "5f108f65-369e-43a8-a591-4ffc889d8df5",
   "metadata": {},
   "outputs": [
    {
     "data": {
      "text/plain": [
       "0.35"
      ]
     },
     "execution_count": 91,
     "metadata": {},
     "output_type": "execute_result"
    }
   ],
   "source": [
    "b/a"
   ]
  },
  {
   "cell_type": "code",
   "execution_count": 92,
   "id": "a2841b87-9d8f-4fd4-b0e1-f70543862310",
   "metadata": {},
   "outputs": [
    {
     "data": {
      "text/plain": [
       "0.5714285714285714 + 0.8571428571428571im"
      ]
     },
     "execution_count": 92,
     "metadata": {},
     "output_type": "execute_result"
    }
   ],
   "source": [
    "c/b"
   ]
  },
  {
   "cell_type": "code",
   "execution_count": 93,
   "id": "dce10621-2b43-43c2-986b-ee67103e90b2",
   "metadata": {},
   "outputs": [
    {
     "data": {
      "text/plain": [
       "2.0 + 3.0im"
      ]
     },
     "execution_count": 93,
     "metadata": {},
     "output_type": "execute_result"
    }
   ],
   "source": [
    "c/d"
   ]
  },
  {
   "cell_type": "code",
   "execution_count": 94,
   "id": "9c0837f4-c267-48bc-8a47-fcf306ede4c6",
   "metadata": {},
   "outputs": [
    {
     "data": {
      "text/plain": [
       "Inf"
      ]
     },
     "execution_count": 94,
     "metadata": {},
     "output_type": "execute_result"
    }
   ],
   "source": [
    "true / false"
   ]
  },
  {
   "cell_type": "code",
   "execution_count": 96,
   "id": "4ccb5814-5842-4df0-a637-54b26e2a77a1",
   "metadata": {},
   "outputs": [
    {
     "data": {
      "text/plain": [
       "2"
      ]
     },
     "execution_count": 96,
     "metadata": {},
     "output_type": "execute_result"
    }
   ],
   "source": [
    "# целочисленное деление\n",
    "\n",
    "div(10, 4)"
   ]
  },
  {
   "cell_type": "code",
   "execution_count": 101,
   "id": "87b7f71d-4266-4fc6-acd5-08880a604533",
   "metadata": {},
   "outputs": [
    {
     "data": {
      "text/plain": [
       "0"
      ]
     },
     "execution_count": 101,
     "metadata": {},
     "output_type": "execute_result"
    }
   ],
   "source": [
    "# остаток от деления\n",
    "\n",
    "mod(10, 5)"
   ]
  },
  {
   "cell_type": "code",
   "execution_count": 102,
   "id": "8719ff51-fc9e-42fd-b9e9-67f6b6c3aaa7",
   "metadata": {},
   "outputs": [
    {
     "data": {
      "text/plain": [
       "100"
      ]
     },
     "execution_count": 102,
     "metadata": {},
     "output_type": "execute_result"
    }
   ],
   "source": [
    "# возведение в степень\n",
    "\n",
    "a^2"
   ]
  },
  {
   "cell_type": "code",
   "execution_count": 103,
   "id": "06237e2f-e86c-474a-b255-59da01f3d479",
   "metadata": {},
   "outputs": [
    {
     "data": {
      "text/plain": [
       "275854.7353515625"
      ]
     },
     "execution_count": 103,
     "metadata": {},
     "output_type": "execute_result"
    }
   ],
   "source": [
    "b^a"
   ]
  },
  {
   "cell_type": "code",
   "execution_count": 104,
   "id": "cb7c3137-0914-4393-b35e-e2b1bf36e02f",
   "metadata": {},
   "outputs": [
    {
     "data": {
      "text/plain": [
       "-341525 - 145668im"
      ]
     },
     "execution_count": 104,
     "metadata": {},
     "output_type": "execute_result"
    }
   ],
   "source": [
    "c^a"
   ]
  },
  {
   "cell_type": "code",
   "execution_count": 105,
   "id": "7082b7da-bfe5-41a8-9c3c-f78c49143112",
   "metadata": {},
   "outputs": [
    {
     "data": {
      "text/plain": [
       "2 + 3im"
      ]
     },
     "execution_count": 105,
     "metadata": {},
     "output_type": "execute_result"
    }
   ],
   "source": [
    "c^d"
   ]
  },
  {
   "cell_type": "code",
   "execution_count": 106,
   "id": "2c3c5adc-f36c-440b-9884-a5e893b9242e",
   "metadata": {},
   "outputs": [
    {
     "data": {
      "text/plain": [
       "true"
      ]
     },
     "execution_count": 106,
     "metadata": {},
     "output_type": "execute_result"
    }
   ],
   "source": [
    "d^0"
   ]
  },
  {
   "cell_type": "code",
   "execution_count": 107,
   "id": "1558902e-8461-4366-8827-d29b2285f426",
   "metadata": {},
   "outputs": [
    {
     "data": {
      "text/plain": [
       "3.1622776601683795"
      ]
     },
     "execution_count": 107,
     "metadata": {},
     "output_type": "execute_result"
    }
   ],
   "source": [
    "# извлечение корня\n",
    "\n",
    "sqrt(a)"
   ]
  },
  {
   "cell_type": "code",
   "execution_count": 108,
   "id": "75cc7936-76cd-4126-a199-67f46b5e0079",
   "metadata": {},
   "outputs": [
    {
     "data": {
      "text/plain": [
       "10.0"
      ]
     },
     "execution_count": 108,
     "metadata": {},
     "output_type": "execute_result"
    }
   ],
   "source": [
    "sqrt(100)"
   ]
  },
  {
   "cell_type": "code",
   "execution_count": 109,
   "id": "0c6bd3d8-08d4-4398-853c-2516ac1e18fd",
   "metadata": {},
   "outputs": [
    {
     "data": {
      "text/plain": [
       "1.8708286933869707"
      ]
     },
     "execution_count": 109,
     "metadata": {},
     "output_type": "execute_result"
    }
   ],
   "source": [
    "sqrt(b)"
   ]
  },
  {
   "cell_type": "code",
   "execution_count": 110,
   "id": "3bad5bdc-7ca5-4b39-bb5e-f684a1f64625",
   "metadata": {},
   "outputs": [
    {
     "data": {
      "text/plain": [
       "1.6741492280355401 + 0.8959774761298381im"
      ]
     },
     "execution_count": 110,
     "metadata": {},
     "output_type": "execute_result"
    }
   ],
   "source": [
    "sqrt(c)"
   ]
  },
  {
   "cell_type": "code",
   "execution_count": 111,
   "id": "a6893ea2-09ee-4b64-8ee3-df2b5392f67b",
   "metadata": {},
   "outputs": [
    {
     "data": {
      "text/plain": [
       "1.0"
      ]
     },
     "execution_count": 111,
     "metadata": {},
     "output_type": "execute_result"
    }
   ],
   "source": [
    "sqrt(d)"
   ]
  },
  {
   "cell_type": "code",
   "execution_count": 114,
   "id": "c653b094-a2cf-4745-8c4e-a4aa2500bd51",
   "metadata": {},
   "outputs": [
    {
     "data": {
      "text/plain": [
       "true"
      ]
     },
     "execution_count": 114,
     "metadata": {},
     "output_type": "execute_result"
    }
   ],
   "source": [
    "# равенство\n",
    "\n",
    "a == 10"
   ]
  },
  {
   "cell_type": "code",
   "execution_count": 115,
   "id": "235d435f-9c8c-4610-a9e0-66988485095e",
   "metadata": {},
   "outputs": [
    {
     "data": {
      "text/plain": [
       "false"
      ]
     },
     "execution_count": 115,
     "metadata": {},
     "output_type": "execute_result"
    }
   ],
   "source": [
    "# не равно\n",
    "\n",
    "a != 10"
   ]
  },
  {
   "cell_type": "code",
   "execution_count": 118,
   "id": "15de58b7-cd32-423a-9075-812c9897ef37",
   "metadata": {},
   "outputs": [
    {
     "data": {
      "text/plain": [
       "(true, 10, 3.5)"
      ]
     },
     "execution_count": 118,
     "metadata": {},
     "output_type": "execute_result"
    }
   ],
   "source": [
    "a > b, a, b"
   ]
  },
  {
   "cell_type": "code",
   "execution_count": 119,
   "id": "e0c22789-2d4e-4f96-80f6-c6809a950238",
   "metadata": {},
   "outputs": [
    {
     "data": {
      "text/plain": [
       "false"
      ]
     },
     "execution_count": 119,
     "metadata": {},
     "output_type": "execute_result"
    }
   ],
   "source": [
    "a < b"
   ]
  },
  {
   "cell_type": "code",
   "execution_count": 121,
   "id": "a720301c-7b37-423d-b0cb-60c8618719b3",
   "metadata": {},
   "outputs": [
    {
     "data": {
      "text/plain": [
       "true"
      ]
     },
     "execution_count": 121,
     "metadata": {},
     "output_type": "execute_result"
    }
   ],
   "source": [
    "a >= b"
   ]
  },
  {
   "cell_type": "code",
   "execution_count": 128,
   "id": "4055958d-3d4f-4525-a38f-0a6f2423267f",
   "metadata": {},
   "outputs": [
    {
     "data": {
      "text/plain": [
       "false"
      ]
     },
     "execution_count": 128,
     "metadata": {},
     "output_type": "execute_result"
    }
   ],
   "source": [
    "a <= d"
   ]
  },
  {
   "cell_type": "code",
   "execution_count": 129,
   "id": "e3297577-ab72-46c1-9d0d-b9f50740d4f3",
   "metadata": {},
   "outputs": [
    {
     "data": {
      "text/plain": [
       "true"
      ]
     },
     "execution_count": 129,
     "metadata": {},
     "output_type": "execute_result"
    }
   ],
   "source": [
    "true && true"
   ]
  },
  {
   "cell_type": "code",
   "execution_count": 130,
   "id": "d5f5a7f6-e7cf-46b5-9dca-6777a3afc31a",
   "metadata": {},
   "outputs": [
    {
     "data": {
      "text/plain": [
       "false"
      ]
     },
     "execution_count": 130,
     "metadata": {},
     "output_type": "execute_result"
    }
   ],
   "source": [
    "true && false"
   ]
  },
  {
   "cell_type": "code",
   "execution_count": 131,
   "id": "23a5b9d5-4f02-4769-a837-3722192db157",
   "metadata": {},
   "outputs": [
    {
     "data": {
      "text/plain": [
       "true"
      ]
     },
     "execution_count": 131,
     "metadata": {},
     "output_type": "execute_result"
    }
   ],
   "source": [
    "true || false"
   ]
  },
  {
   "cell_type": "code",
   "execution_count": 132,
   "id": "09f37bcd-0ff7-44f2-8c77-d16110c1205f",
   "metadata": {},
   "outputs": [
    {
     "data": {
      "text/plain": [
       "true"
      ]
     },
     "execution_count": 132,
     "metadata": {},
     "output_type": "execute_result"
    }
   ],
   "source": [
    "true || true"
   ]
  },
  {
   "cell_type": "code",
   "execution_count": 133,
   "id": "1ed4ad0c-abcc-4467-bb16-decf8ec1efb4",
   "metadata": {},
   "outputs": [
    {
     "data": {
      "text/plain": [
       "false"
      ]
     },
     "execution_count": 133,
     "metadata": {},
     "output_type": "execute_result"
    }
   ],
   "source": [
    "!true"
   ]
  },
  {
   "cell_type": "code",
   "execution_count": 134,
   "id": "66b152b8-3d75-4fc9-ba88-a49cb0eb6e3c",
   "metadata": {},
   "outputs": [
    {
     "data": {
      "text/plain": [
       "true"
      ]
     },
     "execution_count": 134,
     "metadata": {},
     "output_type": "execute_result"
    }
   ],
   "source": [
    "!false"
   ]
  },
  {
   "cell_type": "code",
   "execution_count": 142,
   "id": "605dc761-b6b4-49d4-bc98-68da05765cfb",
   "metadata": {},
   "outputs": [
    {
     "data": {
      "text/plain": [
       "1×3 Matrix{Int64}:\n",
       " 1  1  1"
      ]
     },
     "execution_count": 142,
     "metadata": {},
     "output_type": "execute_result"
    }
   ],
   "source": [
    "# матрицы и векторы\n",
    "\n",
    "a = [1 2 3]\n",
    "c = [1 1 1]"
   ]
  },
  {
   "cell_type": "code",
   "execution_count": 143,
   "id": "a036a2d0-bcf1-4739-93bf-d8a348a561ef",
   "metadata": {},
   "outputs": [
    {
     "data": {
      "text/plain": [
       "3-element Vector{Int64}:\n",
       " 1\n",
       " 2\n",
       " 3"
      ]
     },
     "execution_count": 143,
     "metadata": {},
     "output_type": "execute_result"
    }
   ],
   "source": [
    "b = [4, 5, 6]\n",
    "d = [1, 2, 3]"
   ]
  },
  {
   "cell_type": "code",
   "execution_count": 139,
   "id": "fc84e35d-1b61-4e78-8bd1-7e68d9c00512",
   "metadata": {},
   "outputs": [
    {
     "data": {
      "text/plain": [
       "3×3 Matrix{Int64}:\n",
       " 1  1  1\n",
       " 2  2  2\n",
       " 1  1  1"
      ]
     },
     "execution_count": 139,
     "metadata": {},
     "output_type": "execute_result"
    }
   ],
   "source": [
    "m1 = [1 1 1; 2 2 2; 1 1 1]"
   ]
  },
  {
   "cell_type": "code",
   "execution_count": 140,
   "id": "ea5066f1-d925-44d3-b3a2-6f78cd555840",
   "metadata": {},
   "outputs": [
    {
     "data": {
      "text/plain": [
       "3×3 Matrix{Int64}:\n",
       " 2  2  2\n",
       " 1  1  1\n",
       " 2  2  2"
      ]
     },
     "execution_count": 140,
     "metadata": {},
     "output_type": "execute_result"
    }
   ],
   "source": [
    "m2 = [2 2 2; 1 1 1; 2 2 2]"
   ]
  },
  {
   "cell_type": "code",
   "execution_count": 144,
   "id": "cfd93c10-7065-42f4-aeac-a6fd2aed1dda",
   "metadata": {},
   "outputs": [
    {
     "data": {
      "text/plain": [
       "1×3 Matrix{Int64}:\n",
       " 2  3  4"
      ]
     },
     "execution_count": 144,
     "metadata": {},
     "output_type": "execute_result"
    }
   ],
   "source": [
    "# сложение векторов и матриц\n",
    "\n",
    "sum1 = a+c"
   ]
  },
  {
   "cell_type": "code",
   "execution_count": 145,
   "id": "029b8c30-a6ac-4f7b-894b-f7c2055e64dd",
   "metadata": {},
   "outputs": [
    {
     "data": {
      "text/plain": [
       "3-element Vector{Int64}:\n",
       " 5\n",
       " 7\n",
       " 9"
      ]
     },
     "execution_count": 145,
     "metadata": {},
     "output_type": "execute_result"
    }
   ],
   "source": [
    "sum2 = b+d"
   ]
  },
  {
   "cell_type": "code",
   "execution_count": 147,
   "id": "0ea19f24-241f-42fd-9b71-132079cc841d",
   "metadata": {},
   "outputs": [
    {
     "data": {
      "text/plain": [
       "3×3 Matrix{Int64}:\n",
       " 3  3  3\n",
       " 3  3  3\n",
       " 3  3  3"
      ]
     },
     "execution_count": 147,
     "metadata": {},
     "output_type": "execute_result"
    }
   ],
   "source": [
    "sum3 = m1 + m2"
   ]
  },
  {
   "cell_type": "code",
   "execution_count": 155,
   "id": "9272e41a-8b95-4380-abc5-2eb4a0b0e4a6",
   "metadata": {},
   "outputs": [
    {
     "data": {
      "text/plain": [
       "1×3 Matrix{Int64}:\n",
       " 0  1  2"
      ]
     },
     "execution_count": 155,
     "metadata": {},
     "output_type": "execute_result"
    }
   ],
   "source": [
    "# вычитание векторов и матриц\n",
    "\n",
    "diff1 = a-c"
   ]
  },
  {
   "cell_type": "code",
   "execution_count": 151,
   "id": "a2a4e8e9-a74e-49b0-aaff-023750946269",
   "metadata": {},
   "outputs": [
    {
     "data": {
      "text/plain": [
       "3-element Vector{Int64}:\n",
       " 3\n",
       " 3\n",
       " 3"
      ]
     },
     "execution_count": 151,
     "metadata": {},
     "output_type": "execute_result"
    }
   ],
   "source": [
    "diff2 = b-d"
   ]
  },
  {
   "cell_type": "code",
   "execution_count": 153,
   "id": "0ff0bf1d-6f39-451b-9c33-862939f984c8",
   "metadata": {},
   "outputs": [
    {
     "data": {
      "text/plain": [
       "3×3 Matrix{Int64}:\n",
       " -1  -1  -1\n",
       "  1   1   1\n",
       " -1  -1  -1"
      ]
     },
     "execution_count": 153,
     "metadata": {},
     "output_type": "execute_result"
    }
   ],
   "source": [
    "diff3 = m1-m2"
   ]
  },
  {
   "cell_type": "code",
   "execution_count": 154,
   "id": "e461d58b-911f-464c-8706-c56fff6175a0",
   "metadata": {},
   "outputs": [
    {
     "data": {
      "text/plain": [
       "3×3 Matrix{Int64}:\n",
       "  1   1   1\n",
       " -1  -1  -1\n",
       "  1   1   1"
      ]
     },
     "execution_count": 154,
     "metadata": {},
     "output_type": "execute_result"
    }
   ],
   "source": [
    "diff4 = m2-m1"
   ]
  },
  {
   "cell_type": "code",
   "execution_count": 158,
   "id": "400d9d97-0d23-4363-aad4-a029aa18cbac",
   "metadata": {},
   "outputs": [
    {
     "data": {
      "text/plain": [
       "6"
      ]
     },
     "execution_count": 158,
     "metadata": {},
     "output_type": "execute_result"
    }
   ],
   "source": [
    "# скалярное произведение\n",
    "\n",
    "using LinearAlgebra\n",
    "\n",
    "dot_prod = dot(a, c)"
   ]
  },
  {
   "cell_type": "code",
   "execution_count": 159,
   "id": "997656d1-8a27-4b3e-a51d-dbf15037881f",
   "metadata": {},
   "outputs": [
    {
     "data": {
      "text/plain": [
       "32"
      ]
     },
     "execution_count": 159,
     "metadata": {},
     "output_type": "execute_result"
    }
   ],
   "source": [
    "dot(a, b)"
   ]
  },
  {
   "cell_type": "code",
   "execution_count": 160,
   "id": "53319459-bac3-48a9-82dc-f6204764682d",
   "metadata": {},
   "outputs": [
    {
     "data": {
      "text/plain": [
       "32"
      ]
     },
     "execution_count": 160,
     "metadata": {},
     "output_type": "execute_result"
    }
   ],
   "source": [
    "dot(b, d)"
   ]
  },
  {
   "cell_type": "code",
   "execution_count": 161,
   "id": "06d5f2bd-b457-4f60-a4c2-9006b2230fd5",
   "metadata": {},
   "outputs": [
    {
     "data": {
      "text/plain": [
       "18"
      ]
     },
     "execution_count": 161,
     "metadata": {},
     "output_type": "execute_result"
    }
   ],
   "source": [
    "dot(m1, m2)"
   ]
  },
  {
   "cell_type": "code",
   "execution_count": 163,
   "id": "9e353a76-d79b-4ef3-8440-c254cdcf18c9",
   "metadata": {},
   "outputs": [
    {
     "data": {
      "text/plain": [
       "3×1 transpose(::Matrix{Int64}) with eltype Int64:\n",
       " 1\n",
       " 2\n",
       " 3"
      ]
     },
     "execution_count": 163,
     "metadata": {},
     "output_type": "execute_result"
    }
   ],
   "source": [
    "transpose(a)"
   ]
  },
  {
   "cell_type": "code",
   "execution_count": 164,
   "id": "32040358-e0d2-4057-8857-0d382aa307e3",
   "metadata": {},
   "outputs": [
    {
     "data": {
      "text/plain": [
       "3×1 adjoint(::Matrix{Int64}) with eltype Int64:\n",
       " 1\n",
       " 2\n",
       " 3"
      ]
     },
     "execution_count": 164,
     "metadata": {},
     "output_type": "execute_result"
    }
   ],
   "source": [
    "a'"
   ]
  },
  {
   "cell_type": "code",
   "execution_count": 165,
   "id": "5c701300-deeb-4c12-a1ab-8a832469cafe",
   "metadata": {},
   "outputs": [
    {
     "data": {
      "text/plain": [
       "3×3 adjoint(::Matrix{Int64}) with eltype Int64:\n",
       " 1  2  1\n",
       " 1  2  1\n",
       " 1  2  1"
      ]
     },
     "execution_count": 165,
     "metadata": {},
     "output_type": "execute_result"
    }
   ],
   "source": [
    "m1'"
   ]
  },
  {
   "cell_type": "code",
   "execution_count": 166,
   "id": "eb198fe1-b110-413a-a01a-e319147ef91a",
   "metadata": {},
   "outputs": [
    {
     "data": {
      "text/plain": [
       "3×3 transpose(::Matrix{Int64}) with eltype Int64:\n",
       " 1  2  1\n",
       " 1  2  1\n",
       " 1  2  1"
      ]
     },
     "execution_count": 166,
     "metadata": {},
     "output_type": "execute_result"
    }
   ],
   "source": [
    "transpose(m1)"
   ]
  },
  {
   "cell_type": "code",
   "execution_count": 167,
   "id": "8fa04f93-ecfe-4d7b-ab51-3c991bd0e98f",
   "metadata": {},
   "outputs": [
    {
     "data": {
      "text/plain": [
       "1×3 adjoint(::Vector{Int64}) with eltype Int64:\n",
       " 4  5  6"
      ]
     },
     "execution_count": 167,
     "metadata": {},
     "output_type": "execute_result"
    }
   ],
   "source": [
    "b'"
   ]
  },
  {
   "cell_type": "code",
   "execution_count": 168,
   "id": "16eb5075-54de-4e62-b5ad-38defdbde350",
   "metadata": {},
   "outputs": [
    {
     "data": {
      "text/plain": [
       "3×3 Matrix{Int64}:\n",
       " 2  2  2\n",
       " 4  4  4\n",
       " 2  2  2"
      ]
     },
     "execution_count": 168,
     "metadata": {},
     "output_type": "execute_result"
    }
   ],
   "source": [
    "scalar = 2\n",
    "\n",
    "scalar * m1"
   ]
  },
  {
   "cell_type": "code",
   "execution_count": 169,
   "id": "98a05d34-51cd-4bc9-b843-96c8fcca2c05",
   "metadata": {},
   "outputs": [
    {
     "data": {
      "text/plain": [
       "1×3 Matrix{Int64}:\n",
       " 2  4  6"
      ]
     },
     "execution_count": 169,
     "metadata": {},
     "output_type": "execute_result"
    }
   ],
   "source": [
    "scalar * a"
   ]
  },
  {
   "cell_type": "code",
   "execution_count": 170,
   "id": "4510b3b5-0be9-4b81-845a-5edac2c95546",
   "metadata": {},
   "outputs": [
    {
     "data": {
      "text/plain": [
       "3-element Vector{Int64}:\n",
       "  8\n",
       " 10\n",
       " 12"
      ]
     },
     "execution_count": 170,
     "metadata": {},
     "output_type": "execute_result"
    }
   ],
   "source": [
    "scalar * b"
   ]
  },
  {
   "cell_type": "code",
   "execution_count": 171,
   "id": "e00eb398-fb58-423a-8155-5aa2243f92d0",
   "metadata": {},
   "outputs": [
    {
     "data": {
      "text/plain": [
       "1-element Vector{Int64}:\n",
       " 32"
      ]
     },
     "execution_count": 171,
     "metadata": {},
     "output_type": "execute_result"
    }
   ],
   "source": [
    "a*b"
   ]
  },
  {
   "cell_type": "code",
   "execution_count": 173,
   "id": "28e5a10c-4863-444e-a1fc-1adbbf662256",
   "metadata": {},
   "outputs": [
    {
     "data": {
      "text/plain": [
       "1×3 Matrix{Int64}:\n",
       " 8  8  8"
      ]
     },
     "execution_count": 173,
     "metadata": {},
     "output_type": "execute_result"
    }
   ],
   "source": [
    "a*m1"
   ]
  },
  {
   "cell_type": "code",
   "execution_count": 176,
   "id": "5fb7e5ae-0b8e-4883-88da-3e0dc246d0e1",
   "metadata": {},
   "outputs": [
    {
     "data": {
      "text/plain": [
       "3-element Vector{Int64}:\n",
       " 15\n",
       " 30\n",
       " 15"
      ]
     },
     "execution_count": 176,
     "metadata": {},
     "output_type": "execute_result"
    }
   ],
   "source": [
    "m1*b"
   ]
  },
  {
   "cell_type": "code",
   "execution_count": 177,
   "id": "7671443c-a850-45ce-9939-beb52fab2a56",
   "metadata": {},
   "outputs": [
    {
     "data": {
      "text/plain": [
       "3×3 Matrix{Int64}:\n",
       "  5   5   5\n",
       " 10  10  10\n",
       "  5   5   5"
      ]
     },
     "execution_count": 177,
     "metadata": {},
     "output_type": "execute_result"
    }
   ],
   "source": [
    "m1*m2"
   ]
  },
  {
   "cell_type": "code",
   "execution_count": null,
   "id": "e52a060a-ccb1-4f3e-b2f8-0dc489db5b7e",
   "metadata": {},
   "outputs": [],
   "source": []
  }
 ],
 "metadata": {
  "kernelspec": {
   "display_name": "Julia 1.11.3",
   "language": "julia",
   "name": "julia-1.11"
  },
  "language_info": {
   "file_extension": ".jl",
   "mimetype": "application/julia",
   "name": "julia",
   "version": "1.11.3"
  }
 },
 "nbformat": 4,
 "nbformat_minor": 5
}
